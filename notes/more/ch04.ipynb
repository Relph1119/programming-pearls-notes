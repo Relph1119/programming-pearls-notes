{
 "cells": [
  {
   "cell_type": "markdown",
   "id": "363e5551",
   "metadata": {
    "collapsed": true
   },
   "source": [
    "# 第4章 自描述数据"
   ]
  },
  {
   "cell_type": "markdown",
   "id": "2d0431db",
   "metadata": {},
   "source": [
    "## 4.1 名字-值对"
   ]
  },
  {
   "cell_type": "markdown",
   "id": "3c51dfc5",
   "metadata": {},
   "source": [
    "- 目录文件中的行是名字-值对：每一行包含一个属性的名称和该属性的取值。名字和取值是自描述的，无需对它们进行详细说明。\n",
    "- 一些数据库系统中使用这个形式将记录存储到大块存储器中，如果存储空间紧缺，可以将每个字段取两个字符组成名字，以垂直线结束。"
   ]
  },
  {
   "cell_type": "markdown",
   "id": "0fa4dcf7",
   "metadata": {},
   "source": [
    "## 4.2 记录来历"
   ]
  },
  {
   "cell_type": "markdown",
   "id": "42f0bdb7",
   "metadata": {},
   "source": [
    "- 数据文件的来历通常保存在一个关联文件（比如更新记录）中。\n",
    "- 杜克大学的Frank Starmer利用UNIX管道自动地从输入中将已有的注释复制到输出中，还添加了一个新的trail注释为自己的动作记录文档。\n",
    "- 贝尔实验室的Tom Duff开发了一大套UNIX程序对图片进行转换，一个图片文件包含文本行以及图片本身，文本行列出了生成该图片的命令，作为文件开头的文本行提供了图片的来历。"
   ]
  }
 ],
 "metadata": {
  "kernelspec": {
   "display_name": "Python 3 (ipykernel)",
   "language": "python",
   "name": "python3"
  },
  "language_info": {
   "codemirror_mode": {
    "name": "ipython",
    "version": 3
   },
   "file_extension": ".py",
   "mimetype": "text/x-python",
   "name": "python",
   "nbconvert_exporter": "python",
   "pygments_lexer": "ipython3",
   "version": "3.10.5"
  }
 },
 "nbformat": 4,
 "nbformat_minor": 5
}
