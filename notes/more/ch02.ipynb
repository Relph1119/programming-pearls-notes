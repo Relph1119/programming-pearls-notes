{
 "cells": [
  {
   "cell_type": "markdown",
   "id": "be830315",
   "metadata": {
    "collapsed": true
   },
   "source": [
    "# 第2章 关联数组"
   ]
  },
  {
   "cell_type": "markdown",
   "id": "6c8be192",
   "metadata": {},
   "source": [
    " ## 2.1 关联数组的定义"
   ]
  },
  {
   "cell_type": "markdown",
   "id": "da03e1ba",
   "metadata": {},
   "source": [
    "按照百度百科的解释：\n",
    "> “关联数组”是一种具有特殊索引方式的数组。不仅可以通过整数来索引它，还可以使用字符串或者其他类型的值（除了NULL）来索引它。"
   ]
  },
  {
   "cell_type": "markdown",
   "id": "d36c43ba",
   "metadata": {},
   "source": [
    "根据上述解释，在Python中可以理解为字典（dict）。"
   ]
  },
  {
   "cell_type": "code",
   "execution_count": 5,
   "id": "f2314bc2",
   "metadata": {},
   "outputs": [],
   "source": [
    "shopping_list = [\n",
    "    [\"chips\", 3],\n",
    "    [\"dip\", 2],\n",
    "    [\"chips\", 1],\n",
    "    [\"cola\", 5],\n",
    "    [\"dip\", 1]\n",
    "]"
   ]
  },
  {
   "cell_type": "code",
   "execution_count": 6,
   "id": "29fd838c",
   "metadata": {},
   "outputs": [
    {
     "data": {
      "text/plain": [
       "defaultdict(int, {'chips': 4, 'dip': 3, 'cola': 5})"
      ]
     },
     "execution_count": 6,
     "metadata": {},
     "output_type": "execute_result"
    }
   ],
   "source": [
    "from collections import defaultdict\n",
    "\n",
    "shopping_array = defaultdict(int)\n",
    "for item in shopping_list:\n",
    "    shopping_array[item[0]] += item[1]\n",
    "    \n",
    "shopping_array"
   ]
  },
  {
   "cell_type": "markdown",
   "id": "376d2118",
   "metadata": {},
   "source": [
    "## 2.2 有穷状态机模拟器"
   ]
  },
  {
   "cell_type": "markdown",
   "id": "130d5f0f",
   "metadata": {},
   "source": [
    "任务描述：“抑制”比特流中所有新出现的1：  \n",
    "&emsp;Input\\: &emsp;&emsp;011010111  \n",
    "&emsp;Output\\: &emsp;&nbsp;001000011 "
   ]
  },
  {
   "cell_type": "code",
   "execution_count": 1,
   "id": "5f4549f0",
   "metadata": {},
   "outputs": [
    {
     "name": "stdout",
     "output_type": "stream",
     "text": [
      "001000011"
     ]
    }
   ],
   "source": [
    "trans_out = dict()\n",
    "trans_out[(\"LIZ\", \"0\")] = (\"LIZ\", \"0\")\n",
    "trans_out[(\"LIZ\", \"1\")] = (\"LIO\", \"0\")\n",
    "trans_out[(\"LIO\", \"0\")] = (\"LIZ\", \"0\")\n",
    "trans_out[(\"LIO\", \"1\")] = (\"LIO\", \"1\")\n",
    "\n",
    "\n",
    "input_str = \"011010111\"\n",
    "state = \"LIZ\"\n",
    "for inSym in input_str:\n",
    "    state, outSym = trans_out[(state, inSym)]\n",
    "    print(outSym, end=\"\")"
   ]
  },
  {
   "cell_type": "markdown",
   "id": "0c5f8ecc",
   "metadata": {},
   "source": [
    "## 2.3 拓扑排序"
   ]
  },
  {
   "cell_type": "markdown",
   "id": "c78d9fdf",
   "metadata": {},
   "source": [
    "需求：根据输入的有向无环图，输出一个排序，使得所有祖先都出现在各自的后代之前。\n",
    "\n",
    "方案：使用拓扑排序算法\n",
    "\n",
    "算法实现步骤：\n",
    "1. 先将结点的关系进行存储，记录结点与其后代的个数。  \n",
    "2. 循环遍历：每次选出一个祖先结点数为零的结点，打印输出，将其所有后代结点的祖先数量全部减少1。 "
   ]
  },
  {
   "cell_type": "code",
   "execution_count": 3,
   "id": "1af9c0c7",
   "metadata": {},
   "outputs": [
    {
     "name": "stdout",
     "output_type": "stream",
     "text": [
      "A->I->G->E->C->B->D->F->H\n"
     ]
    }
   ],
   "source": [
    "from collections import defaultdict\n",
    "\n",
    "topos = [[\"A\", \"B\"],\n",
    "         [\"A\", \"F\"],\n",
    "         [\"B\", \"F\"],\n",
    "         [\"E\", \"B\"],\n",
    "         [\"I\", \"E\"],\n",
    "         [\"G\", \"E\"],\n",
    "         [\"E\", \"D\"],\n",
    "         [\"F\", \"H\"],\n",
    "         [\"D\", \"H\"],\n",
    "         [\"G\", \"C\"],\n",
    "         [\"I\", \"C\"]]\n",
    "\n",
    "# 结点的祖先数，key为结点名，value为结点的祖先个数\n",
    "predct = defaultdict(int)\n",
    "# 结点的后代数，key为结点名，value为结点的后代个数据\n",
    "succcnt = defaultdict(int)\n",
    "# 后代结点集合，key为(祖先结点名、后代结点序号)，value为该后代结点名\n",
    "succlist = dict()\n",
    "for topo in topos:\n",
    "    predct[topo[1]] += 1\n",
    "    if topo[0] not in predct.keys():\n",
    "        predct[topo[0]] = 0\n",
    "    succcnt[topo[0]] += 1\n",
    "    succlist[(topo[0], succcnt[topo[0]])] = topo[1]\n",
    "\n",
    "qlo = 1\n",
    "n = 0\n",
    "q = []\n",
    "# 遍历所有结点\n",
    "for i in predct.keys():\n",
    "    n += 1\n",
    "    # 记录祖先为零的结点\n",
    "    if predct[i] == 0:\n",
    "        q.append(i)\n",
    "qhi = len(q)\n",
    "\n",
    "result = []\n",
    "\n",
    "while qlo <= qhi:\n",
    "    # 选出祖先为零的结点，并输出\n",
    "    t = q[qlo - 1]\n",
    "    result.append(t)\n",
    "    qlo += 1\n",
    "    # 将所有后代结点的祖先数全部减1\n",
    "    for i in range(1, succcnt[t] + 1):\n",
    "        s = succlist[(t, i)]\n",
    "        predct[s] -= 1\n",
    "        # 将祖先为零的结点加入到待遍历列表中\n",
    "        if predct[s] == 0:\n",
    "            q.append(s)\n",
    "            qhi += 1\n",
    "\n",
    "print(\"->\".join(result))\n",
    "\n",
    "if qhi != n:\n",
    "    print(\"tsort error: cycle in input\")"
   ]
  },
  {
   "cell_type": "markdown",
   "id": "14968a6d",
   "metadata": {},
   "source": [
    "## 2.4 原理"
   ]
  },
  {
   "cell_type": "markdown",
   "id": "ea1ac87a",
   "metadata": {},
   "source": [
    "关联数据是Awk将字符串和数值这样的基本数据类型结合起来的唯一机制，可以用Python的字典实现。关联数组可以表示许多数据结构：\n",
    "- 数组：一维、多维和稀疏数组都能实现。\n",
    "- 顺序结构：队列和栈可由关联数组加一个或两个索引产生。\n",
    "- 符号表：提供从名字到值的一个映射。\n",
    "- 图：有穷状态机使用图的矩阵表示，拓扑排序使用边-序列表示。"
   ]
  }
 ],
 "metadata": {
  "kernelspec": {
   "display_name": "Python 3 (ipykernel)",
   "language": "python",
   "name": "python3"
  },
  "language_info": {
   "codemirror_mode": {
    "name": "ipython",
    "version": 3
   },
   "file_extension": ".py",
   "mimetype": "text/x-python",
   "name": "python",
   "nbconvert_exporter": "python",
   "pygments_lexer": "ipython3",
   "version": "3.10.5"
  }
 },
 "nbformat": 4,
 "nbformat_minor": 5
}
