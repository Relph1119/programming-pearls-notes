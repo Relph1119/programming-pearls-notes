{
 "cells": [
  {
   "cell_type": "markdown",
   "id": "5da33de4",
   "metadata": {
    "collapsed": true
   },
   "source": [
    "# 第14章 编写数值计算程序"
   ]
  },
  {
   "cell_type": "markdown",
   "id": "92b5110f",
   "metadata": {},
   "source": [
    "## 14.1 问题"
   ]
  },
  {
   "cell_type": "markdown",
   "id": "75fb6c72",
   "metadata": {},
   "source": [
    "问题描述：在一个计算旅行商漫游点集的程序，要求计算K维空间中点与点之间的欧氏距离。例如，三维空间中的点$(a_1,a_2,a_3)$和$(b_1, b_2, b_3)$之间的距离是：\n",
    "$$\n",
    "\\sqrt{(a_1 - b_1)^2 + (a_2 - b_2)^2 + (a_3 - b_3)^2}\n",
    "$$"
   ]
  },
  {
   "cell_type": "markdown",
   "id": "05cac2ff",
   "metadata": {},
   "source": [
    "**程序1：**"
   ]
  },
  {
   "cell_type": "code",
   "execution_count": 1,
   "id": "1909fb25",
   "metadata": {},
   "outputs": [],
   "source": [
    "import math\n",
    "\n",
    "def calc_K_dist1(A, B):\n",
    "    Sum = 0\n",
    "    for a, b in zip(A, B):\n",
    "        t = a - b\n",
    "        Sum += t * t\n",
    "    return math.sqrt(Sum)"
   ]
  },
  {
   "cell_type": "code",
   "execution_count": 2,
   "id": "78d6318e",
   "metadata": {},
   "outputs": [
    {
     "data": {
      "text/plain": [
       "5.196152422706632"
      ]
     },
     "execution_count": 2,
     "metadata": {},
     "output_type": "execute_result"
    }
   ],
   "source": [
    "A = [1, 2, 3]\n",
    "B = [4, 5, 6]\n",
    "calc_K_dist1(A, B)"
   ]
  },
  {
   "cell_type": "markdown",
   "id": "894dde80",
   "metadata": {},
   "source": [
    "缺点：\n",
    "- 可能产生溢出：所有的输入、中间计算的差以及输出都需要在有效范围内。\n",
    "- 开销比较大：耗时最长的部分是计算平方根。"
   ]
  },
  {
   "cell_type": "markdown",
   "id": "97c1f426",
   "metadata": {},
   "source": [
    "目标：寻找一个K维欧氏距离的计算函数，需要具有以下性质：\n",
    "- 定义域：K在1\\~16范围之内，点的坐标是单精度的。\n",
    "- 精度：单精度的输出应该精确到十进制的最后一位。\n",
    "- 健壮性：避免上溢出和下溢出。\n",
    "- 性能：程序应该尽可能地快。"
   ]
  },
  {
   "cell_type": "markdown",
   "id": "2f956ab5",
   "metadata": {},
   "source": [
    "## 14.2 牛顿迭代"
   ]
  },
  {
   "cell_type": "markdown",
   "id": "329128d2",
   "metadata": {},
   "source": [
    "该方法在《计算机的构造与解释》一书中也有详细的介绍，求$f(x) = x^2 - a$的零点，即求平方根。"
   ]
  },
  {
   "cell_type": "markdown",
   "id": "b1bb3561",
   "metadata": {},
   "source": [
    "该方法并不显式地计算区间，而是从一个猜测的$x_0$开始，生成一个逼近序列$x_1,x_2,x_3,\\cdots$，为了生成$x_{i+1}$需要直到$f(x_i)$和其导数$f'(x_i)$，迭代式如下：\n",
    "$$\n",
    "x_{i+1} = x_i - f(x_i) / f'(x_i)\n",
    "$$"
   ]
  },
  {
   "cell_type": "markdown",
   "id": "7d15c4dc",
   "metadata": {},
   "source": [
    "根据上述公式，为了计算$\\sqrt{a}$，求解$f(x) = x^2 - a$的零点，已知$f'(x) = 2x$，则牛顿迭代的公式为：\n",
    "$$\n",
    "\\begin{aligned}\n",
    "x_{i + 1} \n",
    "& = x_i - (x_i^2 - a) / 2x_i \\\\\n",
    "&= x_i - x_i /2 + a/ 2x_i \\\\\n",
    "&= (x_i + a / x_i) / 2\n",
    "\\end{aligned}\n",
    "$$"
   ]
  },
  {
   "cell_type": "markdown",
   "id": "c92fca6d",
   "metadata": {},
   "source": [
    "可知，如果$x_i = \\sqrt{a}$，则\n",
    "$$\n",
    "x_{i + 1} = (\\sqrt{a} + a / \\sqrt{a}) / 2 = \\sqrt{a}\n",
    "$$"
   ]
  },
  {
   "cell_type": "markdown",
   "id": "77ec03e1",
   "metadata": {},
   "source": [
    "## 14.3 良好的起点"
   ]
  },
  {
   "cell_type": "markdown",
   "id": "88ae4d7a",
   "metadata": {},
   "source": [
    "关于牛顿迭代，有以下两个问题：\n",
    "1. $x_0$的初始值选择多少合适？\n",
    "2. 把$x_i$作为最后结果之前，应该进行多少次迭代？"
   ]
  },
  {
   "cell_type": "markdown",
   "id": "fcfa7fba",
   "metadata": {},
   "source": [
    "牛顿迭代中的每一次迭代都会使精确位数翻倍，因为第$i+1$步的误差是与第$i$步的误差的平方成比例的，满足平方收敛，具备条件：\n",
    "1. 导数不接近零。\n",
    "2. 初始的猜测值必须足够接近最后的根。"
   ]
  },
  {
   "cell_type": "markdown",
   "id": "c868edd5",
   "metadata": {},
   "source": [
    "## 14.4 代码"
   ]
  },
  {
   "cell_type": "markdown",
   "id": "5cbd797a",
   "metadata": {},
   "source": [
    "**程序2：**"
   ]
  },
  {
   "cell_type": "code",
   "execution_count": 7,
   "id": "ec8297b4",
   "metadata": {},
   "outputs": [],
   "source": [
    "def calc_K_dist2(A, B):\n",
    "    t = abs(A[0] - B[0])\n",
    "    max_ = t\n",
    "    sum_ = t*t\n",
    "    for j in range(1, len(A)):\n",
    "        t = abs(A[j] - B[j])\n",
    "        if t > max_:\n",
    "            max_ = t\n",
    "        sum_ += t * t\n",
    "    \n",
    "    eps = 1e-7\n",
    "    z = max_\n",
    "    while True:\n",
    "        new_z = 0.5 * (z + sum_ / z)\n",
    "        if abs(new_z - z) < eps * new_z:\n",
    "            break\n",
    "        z = new_z\n",
    "    \n",
    "    return new_z"
   ]
  },
  {
   "cell_type": "code",
   "execution_count": 8,
   "id": "c3fc5091",
   "metadata": {},
   "outputs": [
    {
     "data": {
      "text/plain": [
       "5.196152422706632"
      ]
     },
     "execution_count": 8,
     "metadata": {},
     "output_type": "execute_result"
    }
   ],
   "source": [
    "A = [1, 2, 3]\n",
    "B = [4, 5, 6]\n",
    "calc_K_dist2(A, B)"
   ]
  },
  {
   "cell_type": "markdown",
   "id": "668b3b74",
   "metadata": {},
   "source": [
    "**程序3：**"
   ]
  },
  {
   "cell_type": "code",
   "execution_count": 10,
   "id": "bbba4b7e",
   "metadata": {},
   "outputs": [],
   "source": [
    "def calc_K_dist3(A, B):\n",
    "    t = abs(A[0] - B[0])\n",
    "    max_ = t\n",
    "    sum_ = t*t\n",
    "    for j in range(1, len(A)):\n",
    "        t = abs(A[j] - B[j])\n",
    "        if t > max_:\n",
    "            max_ = t\n",
    "        sum_ += t * t\n",
    "    \n",
    "    max_ = max_ * 2\n",
    "    max_ = 0.5 * (max_ + sum_ / max_)\n",
    "    max_ = 0.5 * (max_ + sum_ / max_)\n",
    "    max_ = 0.5 * (max_ + sum_ / max_)\n",
    "    return 0.5 * (max_ + sum_ / max_)"
   ]
  },
  {
   "cell_type": "code",
   "execution_count": 11,
   "id": "cee50bba",
   "metadata": {},
   "outputs": [
    {
     "data": {
      "text/plain": [
       "5.196152422706632"
      ]
     },
     "execution_count": 11,
     "metadata": {},
     "output_type": "execute_result"
    }
   ],
   "source": [
    "A = [1, 2, 3]\n",
    "B = [4, 5, 6]\n",
    "calc_K_dist3(A, B)"
   ]
  },
  {
   "cell_type": "markdown",
   "id": "5ea17c0f",
   "metadata": {},
   "source": [
    "## 14.5 原理"
   ]
  },
  {
   "cell_type": "markdown",
   "id": "1dcb80f4",
   "metadata": {},
   "source": [
    "- 上下文环境的重要性：得到一个快速的距离程序的过程受到许多因素的影响。\n",
    "- 牛顿迭代\n",
    "- 编写代码的技巧：尽管大的改进通常归功于算法的改变，但是代码的小改进也能减少运行时间。\n",
    "- 库函数的作用：为了换取速度，需要牺牲可复用性和数值精确度，在工程上还算明智。"
   ]
  }
 ],
 "metadata": {
  "kernelspec": {
   "display_name": "Python 3 (ipykernel)",
   "language": "python",
   "name": "python3"
  },
  "language_info": {
   "codemirror_mode": {
    "name": "ipython",
    "version": 3
   },
   "file_extension": ".py",
   "mimetype": "text/x-python",
   "name": "python",
   "nbconvert_exporter": "python",
   "pygments_lexer": "ipython3",
   "version": "3.10.5"
  }
 },
 "nbformat": 4,
 "nbformat_minor": 5
}
