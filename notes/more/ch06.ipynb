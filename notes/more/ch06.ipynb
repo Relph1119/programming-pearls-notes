{
 "cells": [
  {
   "cell_type": "markdown",
   "id": "f39327b7",
   "metadata": {
    "collapsed": true
   },
   "source": [
    "# 第6章 计算机科学箴言集"
   ]
  },
  {
   "cell_type": "markdown",
   "id": "a91c6519",
   "metadata": {},
   "source": [
    "**注：** 本章笔记仅列出比较有意思、值得深思的箴言。"
   ]
  },
  {
   "cell_type": "markdown",
   "id": "f8abd771",
   "metadata": {},
   "source": [
    "来自于Tom Duff（贝尔实验室），一年有$3.155 \\times 10^7$秒，在误差不超过0.5%的约束下：$\\pi$秒就是一个纳世纪。"
   ]
  },
  {
   "cell_type": "markdown",
   "id": "6d2d9d03",
   "metadata": {},
   "source": [
    "剽窃即是最诚恳的恭维。\n",
    "\n",
    "> 这句话很有意思，对剽窃的自我嘲讽。"
   ]
  },
  {
   "cell_type": "markdown",
   "id": "d31017ac",
   "metadata": {},
   "source": [
    "## 6.1 编码"
   ]
  },
  {
   "cell_type": "markdown",
   "id": "c6240847",
   "metadata": {},
   "source": [
    "代码写得越急，程序跑得越慢 ——RoyalCarlson（威斯康星大学）"
   ]
  },
  {
   "cell_type": "markdown",
   "id": "fdbe0df5",
   "metadata": {},
   "source": [
    "如果代码和注释不一致，那很可能两者都错了。——Norm Schryer（贝尔实验室）"
   ]
  },
  {
   "cell_type": "markdown",
   "id": "280c4e40",
   "metadata": {},
   "source": [
    "## 6.2 用户界面"
   ]
  },
  {
   "cell_type": "markdown",
   "id": "62627e5b",
   "metadata": {},
   "source": [
    "手工填写的表单中有20%都包含坏数据。——Vic Vyssotsky（贝尔实验室）"
   ]
  },
  {
   "cell_type": "markdown",
   "id": "bd2ed711",
   "metadata": {},
   "source": [
    "80%的表单会要你回答没有必要的问题。——Mike Garey（贝尔实验室）"
   ]
  },
  {
   "cell_type": "markdown",
   "id": "21f89dd2",
   "metadata": {},
   "source": [
    "## 6.3 调试"
   ]
  },
  {
   "cell_type": "markdown",
   "id": "dd62d950",
   "metadata": {},
   "source": [
    "测试只能证明程序有错误，而不能证明程序没有错误。——Edsger W. Dijkstra（德克萨斯大学）"
   ]
  },
  {
   "cell_type": "markdown",
   "id": "3542563c",
   "metadata": {},
   "source": [
    "东西没坏，就别乱修。——罗纳德·里根（加州圣巴巴拉）"
   ]
  },
  {
   "cell_type": "markdown",
   "id": "9afed6f7",
   "metadata": {},
   "source": [
    "## 6.4 性能"
   ]
  },
  {
   "cell_type": "markdown",
   "id": "075d699b",
   "metadata": {},
   "source": [
    "在一个非I/O密集型德程序中，超过一半的运行时间是花在不足4%的代码上的。——Don Knuth（斯坦福大学）"
   ]
  },
  {
   "cell_type": "markdown",
   "id": "ac070d38",
   "metadata": {},
   "source": [
    "【代码规模守恒定律】当你为了加速，把一页代码变成几条简单的指令时，请不要忘了增加注释，以使源码的行数保持为一个常量。——Mike Morton（马萨诸塞州波士顿）"
   ]
  },
  {
   "cell_type": "markdown",
   "id": "0cce5663",
   "metadata": {},
   "source": [
    "## 6.5 软件管理"
   ]
  },
  {
   "cell_type": "markdown",
   "id": "a6539234",
   "metadata": {},
   "source": [
    "【90-90法则】前90%的代码占用了90%的预定开发时间，余下的10%代码又花费了90%的预定开发时间。——Tom Cargill（贝尔实验室）"
   ]
  },
  {
   "cell_type": "markdown",
   "id": "51a31608",
   "metadata": {},
   "source": [
    "做事应该先做最难的部分。如果最难的部分无法做到，那还在简单的部分上浪费时间干嘛？一旦困难的地方搞定了，那你就胜利在望了。\n",
    "\n",
    "做事应该先做最简单的部分。你开始所预想的简单部分，做起来可能是有难度的。一旦你把简单的部分都做好了，你就可以全力攻克最难的部分了。——Al Schapira（贝尔实验室）"
   ]
  },
  {
   "cell_type": "markdown",
   "id": "dfb3a857",
   "metadata": {},
   "source": [
    "## 6.7 原理"
   ]
  },
  {
   "cell_type": "markdown",
   "id": "ef2ec0b3",
   "metadata": {},
   "source": [
    "别轻信那些看似聪明的法则。——Joe Condon（贝尔实验室）"
   ]
  },
  {
   "cell_type": "markdown",
   "id": "67fed4c1",
   "metadata": {},
   "source": [
    "## 6.8 深入阅读"
   ]
  },
  {
   "cell_type": "markdown",
   "id": "adf14b5f",
   "metadata": {},
   "source": [
    "Butler Lampson发表的文章有不少非常有用的“经验法则”：\n",
    "- 把通常情况和最坏情况分开处理。\n",
    "- 在分配资源的时候，请努力避免引起灾难，而不是妄图获得最优。"
   ]
  }
 ],
 "metadata": {
  "kernelspec": {
   "display_name": "Python 3 (ipykernel)",
   "language": "python",
   "name": "python3"
  },
  "language_info": {
   "codemirror_mode": {
    "name": "ipython",
    "version": 3
   },
   "file_extension": ".py",
   "mimetype": "text/x-python",
   "name": "python",
   "nbconvert_exporter": "python",
   "pygments_lexer": "ipython3",
   "version": "3.10.5"
  }
 },
 "nbformat": 4,
 "nbformat_minor": 5
}
