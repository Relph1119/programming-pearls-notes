{
 "cells": [
  {
   "cell_type": "markdown",
   "id": "c18bb26b",
   "metadata": {
    "collapsed": true
   },
   "source": [
    "# 第9章 小语言"
   ]
  },
  {
   "cell_type": "markdown",
   "id": "162d0e26",
   "metadata": {},
   "source": [
    "## 9.1 Pic语言"
   ]
  },
  {
   "cell_type": "markdown",
   "id": "cd7c78c6",
   "metadata": {},
   "source": [
    "编译器行为描述\n",
    "- 方式一：源代码->编译器->目标代码\n",
    "- 方式二：源代码->语法分析（前端）->代码生成（后端）->目标代码"
   ]
  },
  {
   "cell_type": "markdown",
   "id": "a74de400",
   "metadata": {},
   "source": [
    "- 方式三：使用Kernighan的Pic语言描述\n",
    "```\n",
    "ellipse \"Source\" \"Code\"\n",
    "arrow\n",
    "box \"Compiler\"\n",
    "arrow\n",
    "ellipse \"Object\" \"Code\"\n",
    "```"
   ]
  },
  {
   "cell_type": "markdown",
   "id": "a0f3d9e9",
   "metadata": {},
   "source": [
    "## 9.2 视角"
   ]
  },
  {
   "cell_type": "markdown",
   "id": "5477826b",
   "metadata": {},
   "source": [
    "- 使用交互式绘图程序，用户可以通过像鼠标或绘图板这样的输入设备输入图片，并按其绘制的样式对图片进行显示。\n",
    "- 使用小语言绘图，可以方便地将图片进行绘制、组合和展示。"
   ]
  },
  {
   "cell_type": "markdown",
   "id": "3d1e6e0e",
   "metadata": {},
   "source": [
    "> 小语言的定义：通过计算机语言，可以使用文本来描述一个对象，以便计算机程序进行处理。"
   ]
  },
  {
   "cell_type": "markdown",
   "id": "94383d9d",
   "metadata": {},
   "source": [
    "## 9.3 原理"
   ]
  },
  {
   "cell_type": "markdown",
   "id": "ef9d4f40",
   "metadata": {},
   "source": [
    "- 设计目标：设计语言之前，要认真研究试图解决的问题。是否应该创建一个子程序库或交互式系统来取代小语言。\n",
    "- 简单性：让语言尽可能地简单，规模小的语言便于实现者设计、创建、写文档和维护，也便于使用者学习和使用。\n",
    "- 基本的抽象：基本对象可以是几何符号、化学结构、上下文无关语言或者程序中的文件。对象之上的操作也是多种多样的。\n",
    "- 语言的结构：表达式的自然性和实现的方便性之间通常需要做出权衡。"
   ]
  },
  {
   "cell_type": "markdown",
   "id": "737d268f",
   "metadata": {},
   "source": [
    "语言设计的准则：\n",
    "- 正交性：问题中不相关的特性在语言中也不要相关。\n",
    "- 一般性：一种操作用于多种行为。\n",
    "- 简约性：去掉不需要的操作。\n",
    "- 完全性\n",
    "- 相似性：让语言尽可能有启发性。\n",
    "- 可扩展性\n",
    "- 开放性"
   ]
  }
 ],
 "metadata": {
  "kernelspec": {
   "display_name": "Python 3 (ipykernel)",
   "language": "python",
   "name": "python3"
  },
  "language_info": {
   "codemirror_mode": {
    "name": "ipython",
    "version": 3
   },
   "file_extension": ".py",
   "mimetype": "text/x-python",
   "name": "python",
   "nbconvert_exporter": "python",
   "pygments_lexer": "ipython3",
   "version": "3.10.5"
  }
 },
 "nbformat": 4,
 "nbformat_minor": 5
}
