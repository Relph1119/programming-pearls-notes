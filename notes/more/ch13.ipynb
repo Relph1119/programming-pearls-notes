{
 "cells": [
  {
   "cell_type": "markdown",
   "id": "8570f7cf",
   "metadata": {
    "collapsed": true
   },
   "source": [
    "# 第13章 绝妙的取样"
   ]
  },
  {
   "cell_type": "code",
   "execution_count": 12,
   "id": "b94620fc",
   "metadata": {},
   "outputs": [],
   "source": [
    "import random\n",
    "\n",
    "random.seed(2023)"
   ]
  },
  {
   "cell_type": "markdown",
   "id": "011fd811",
   "metadata": {},
   "source": [
    "## 13.1 取样算法一瞥"
   ]
  },
  {
   "cell_type": "markdown",
   "id": "91cf6390",
   "metadata": {},
   "source": [
    "需求：在1\\~N范围内产生M个整数的随机序列"
   ]
  },
  {
   "cell_type": "markdown",
   "id": "3a5d84b4",
   "metadata": {},
   "source": [
    "**算法S：** 把结果保存在集合S中，使用randint产生随机整数，每个M元子集的概率都是$1/{N \\choose M}$。循环不变式是：S总是包含1\\~N范围内size个整数的随机样本。"
   ]
  },
  {
   "cell_type": "code",
   "execution_count": 13,
   "id": "a6c00c94",
   "metadata": {},
   "outputs": [],
   "source": [
    "def sampleS(m, n):\n",
    "    S = set()\n",
    "    size = 0\n",
    "    while size < m:\n",
    "        t = random.randint(1, n)\n",
    "        if t not in S:\n",
    "            S.add(t)\n",
    "            size += 1\n",
    "    return S"
   ]
  },
  {
   "cell_type": "code",
   "execution_count": 14,
   "id": "e16d15bc",
   "metadata": {},
   "outputs": [
    {
     "data": {
      "text/plain": [
       "{1, 3, 4, 5}"
      ]
     },
     "execution_count": 14,
     "metadata": {},
     "output_type": "execute_result"
    }
   ],
   "source": [
    "sampleS(4, 5)"
   ]
  },
  {
   "cell_type": "markdown",
   "id": "c0c5fa3c",
   "metadata": {},
   "source": [
    "## 13.2 Floyd算法"
   ]
  },
  {
   "cell_type": "markdown",
   "id": "0725689e",
   "metadata": {},
   "source": [
    "问题：Bob Floyd发现当M=N=100时，size=99时，集合缺一个整数，算法需要一直猜整数，直到偶然碰上正确的那个，平均需要猜100个随机数。\n",
    "\n",
    "解决方案：对于S中每个随机数，只恰好调用一次randint。"
   ]
  },
  {
   "cell_type": "markdown",
   "id": "18e88022",
   "metadata": {},
   "source": [
    "**算法F1：** 采用受限递归形式"
   ]
  },
  {
   "cell_type": "code",
   "execution_count": 15,
   "id": "2285b9fa",
   "metadata": {},
   "outputs": [],
   "source": [
    "def sampleF1(m, n):\n",
    "    if m == 0:\n",
    "        return set()\n",
    "    else:\n",
    "        S = sampleF1(m-1, n-1)\n",
    "        T = random.randint(1, n)\n",
    "        if t not in S:\n",
    "            S.add(t)\n",
    "        else:\n",
    "            S.add(n)\n",
    "        \n",
    "        return S"
   ]
  },
  {
   "cell_type": "code",
   "execution_count": 16,
   "id": "f9d7bf7f",
   "metadata": {},
   "outputs": [
    {
     "data": {
      "text/plain": [
       "{2, 3, 4, 5, 9}"
      ]
     },
     "execution_count": 16,
     "metadata": {},
     "output_type": "execute_result"
    }
   ],
   "source": [
    "sampleS(5, 10)"
   ]
  },
  {
   "cell_type": "markdown",
   "id": "531ae70a",
   "metadata": {},
   "source": [
    "**算法F2：** 引入一个新变量J，改写成迭代形式。"
   ]
  },
  {
   "cell_type": "code",
   "execution_count": 17,
   "id": "2ef1b437",
   "metadata": {},
   "outputs": [],
   "source": [
    "def sampleF2(m, n):\n",
    "    S = set()\n",
    "    for J in range(n - m + 1, n + 1):\n",
    "        t = random.randint(1, J)\n",
    "        if t not in S:\n",
    "            S.add(t)\n",
    "        else:\n",
    "            S.add(J)\n",
    "    return S"
   ]
  },
  {
   "cell_type": "code",
   "execution_count": 18,
   "id": "0b9e964a",
   "metadata": {},
   "outputs": [
    {
     "data": {
      "text/plain": [
       "{1, 2, 3, 4, 5, 6, 7, 8, 9, 10}"
      ]
     },
     "execution_count": 18,
     "metadata": {},
     "output_type": "execute_result"
    }
   ],
   "source": [
    "sampleF2(10, 10)"
   ]
  },
  {
   "cell_type": "markdown",
   "id": "47f2dc8c",
   "metadata": {},
   "source": [
    "## 13.3 随机排列"
   ]
  },
  {
   "cell_type": "markdown",
   "id": "d1d71f82",
   "metadata": {},
   "source": [
    "需求：要求样本的元素以随机的顺序出现，产生无重复的随机排序。"
   ]
  },
  {
   "cell_type": "markdown",
   "id": "6f89d8a4",
   "metadata": {},
   "source": [
    "**算法P：**"
   ]
  },
  {
   "cell_type": "code",
   "execution_count": 19,
   "id": "d2f66b83",
   "metadata": {},
   "outputs": [],
   "source": [
    "def sampleP(m, n):\n",
    "    S = []\n",
    "    for J in range(n - m + 1, n + 1):\n",
    "        t = random.randint(1, J)\n",
    "        if t not in S:\n",
    "            S.append(t)\n",
    "        else:\n",
    "            S.append(J)\n",
    "    return S"
   ]
  },
  {
   "cell_type": "code",
   "execution_count": 20,
   "id": "5cb56aca",
   "metadata": {},
   "outputs": [
    {
     "data": {
      "text/plain": [
       "[4, 7, 6, 9, 2]"
      ]
     },
     "execution_count": 20,
     "metadata": {},
     "output_type": "execute_result"
    }
   ],
   "source": [
    "sampleP(5, 10)"
   ]
  },
  {
   "cell_type": "markdown",
   "id": "0bb031e8",
   "metadata": {},
   "source": [
    "在算法的每一步，算法F2中的集合S和算法P中的序列S所含的元素是相同的，1\\~N的每一个M元子集都由M!个随机序列生成，它们是等概率的。"
   ]
  },
  {
   "cell_type": "markdown",
   "id": "15584328",
   "metadata": {},
   "source": [
    "## 13.4 深入阅读"
   ]
  },
  {
   "cell_type": "markdown",
   "id": "f339c9dd",
   "metadata": {},
   "source": [
    "在你想出一个算法来解决它之前，先寻找答案的数学特征。——Floyd的关键法则"
   ]
  }
 ],
 "metadata": {
  "kernelspec": {
   "display_name": "Python 3 (ipykernel)",
   "language": "python",
   "name": "python3"
  },
  "language_info": {
   "codemirror_mode": {
    "name": "ipython",
    "version": 3
   },
   "file_extension": ".py",
   "mimetype": "text/x-python",
   "name": "python",
   "nbconvert_exporter": "python",
   "pygments_lexer": "ipython3",
   "version": "3.10.5"
  }
 },
 "nbformat": 4,
 "nbformat_minor": 5
}
