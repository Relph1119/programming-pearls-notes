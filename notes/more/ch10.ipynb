{
 "cells": [
  {
   "cell_type": "markdown",
   "id": "c69584de",
   "metadata": {
    "collapsed": true
   },
   "source": [
    "# 第10章 文档设计"
   ]
  },
  {
   "cell_type": "markdown",
   "id": "6d7c7946",
   "metadata": {},
   "source": [
    "## 10.1 三条设计原则"
   ]
  },
  {
   "cell_type": "markdown",
   "id": "3aaf9dcc",
   "metadata": {},
   "source": [
    "- 迭代：不断修改。\n",
    "- 一致性：选择一个合适的设计并坚持下去。\n",
    "- 简约：“强文必简”，健壮、高效且可维护的程序也非常简练。"
   ]
  },
  {
   "cell_type": "markdown",
   "id": "8f33742a",
   "metadata": {},
   "source": [
    "## 10.2 插图"
   ]
  },
  {
   "cell_type": "markdown",
   "id": "a50fe93e",
   "metadata": {},
   "source": [
    "插图的设计原则：\n",
    "- 插图要小，但也要足够大以便于阅读。\n",
    "- 插图和它们对应的文字要离得近，尽可能将插图与文字紧密结合，并去掉插图标题和编号。\n",
    "- 少使用色彩和背景底纹。\n",
    "- 使用精致的线宽。"
   ]
  },
  {
   "cell_type": "markdown",
   "id": "45e548b4",
   "metadata": {},
   "source": [
    "## 10.3 文本"
   ]
  },
  {
   "cell_type": "markdown",
   "id": "b1973782",
   "metadata": {},
   "source": [
    "文本设计的经验：\n",
    "- 字体和字号的改变：字体可以用于强调术语的定义。\n",
    "- 使用列表：\n",
    "    1. 一系列的要点可以尝试用一系列缩进的段落给出。\n",
    "    2. 这种方式能让读者主要各要点之间的相似性和区别。\n",
    "    3. 不要过度装饰。\n",
    "- 空白：使用空白可以将文档中不同的成分（段落、列表中的项、插图或表）分隔开。\n",
    "- 页面格式：章节的标题要直观概述其内容的大意，但也不能过分具体而使标题显得前言不搭后语。\n",
    "- 页面布局：表和插图要跟相应的描述文字在一起。"
   ]
  }
 ],
 "metadata": {
  "kernelspec": {
   "display_name": "Python 3 (ipykernel)",
   "language": "python",
   "name": "python3"
  },
  "language_info": {
   "codemirror_mode": {
    "name": "ipython",
    "version": 3
   },
   "file_extension": ".py",
   "mimetype": "text/x-python",
   "name": "python",
   "nbconvert_exporter": "python",
   "pygments_lexer": "ipython3",
   "version": "3.10.5"
  }
 },
 "nbformat": 4,
 "nbformat_minor": 5
}
