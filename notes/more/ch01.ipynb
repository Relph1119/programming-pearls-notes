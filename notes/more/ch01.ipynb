{
 "cells": [
  {
   "cell_type": "markdown",
   "id": "47965f34",
   "metadata": {
    "collapsed": true
   },
   "source": [
    "# 第1章 性能监视工具"
   ]
  },
  {
   "cell_type": "markdown",
   "id": "dd460f00",
   "metadata": {},
   "source": [
    "## 1.1 计算素数"
   ]
  },
  {
   "cell_type": "markdown",
   "id": "e6ae5be0",
   "metadata": {},
   "source": [
    "**程序P1：** 依次打印所有小于1000的素数。"
   ]
  },
  {
   "cell_type": "code",
   "execution_count": 1,
   "id": "10f1c70d",
   "metadata": {},
   "outputs": [],
   "source": [
    "from line_profiler import LineProfiler\n",
    "\n",
    "def prime(n):\n",
    "    for i in range(2, n):\n",
    "        if n % i == 0:\n",
    "            return 0\n",
    "    return 1\n",
    "\n",
    "def main():\n",
    "    res = []\n",
    "    n = 1000\n",
    "    for i in range(2, n + 1):\n",
    "        if prime(i):\n",
    "            res.append(i)     \n",
    "    return res"
   ]
  },
  {
   "cell_type": "code",
   "execution_count": 2,
   "id": "da39de0a",
   "metadata": {},
   "outputs": [
    {
     "name": "stdout",
     "output_type": "stream",
     "text": [
      "Timer unit: 1e-07 s\n",
      "\n",
      "Total time: 0.0388577 s\n",
      "File: C:\\Users\\hurui\\AppData\\Local\\Temp\\ipykernel_26816\\1730646751.py\n",
      "Function: prime at line 3\n",
      "\n",
      "Line #      Hits         Time  Per Hit   % Time  Line Contents\n",
      "==============================================================\n",
      "     3                                           def prime(n):\n",
      "     4     78190     162787.0      2.1     41.9      for i in range(2, n):\n",
      "     5     78022     223515.0      2.9     57.5          if n % i == 0:\n",
      "     6       831       1872.0      2.3      0.5              return 0\n",
      "     7       168        403.0      2.4      0.1      return 1\n",
      "\n",
      "Total time: 0.0688222 s\n",
      "File: C:\\Users\\hurui\\AppData\\Local\\Temp\\ipykernel_26816\\1730646751.py\n",
      "Function: main at line 9\n",
      "\n",
      "Line #      Hits         Time  Per Hit   % Time  Line Contents\n",
      "==============================================================\n",
      "     9                                           def main():\n",
      "    10         1          5.0      5.0      0.0      res = []\n",
      "    11         1          4.0      4.0      0.0      n = 1000\n",
      "    12      1000       2410.0      2.4      0.4      for i in range(2, n + 1):\n",
      "    13       999     684802.0    685.5     99.5          if prime(i):\n",
      "    14       168        998.0      5.9      0.1              res.append(i)     \n",
      "    15         1          3.0      3.0      0.0      return res\n",
      "\n"
     ]
    }
   ],
   "source": [
    "p = LineProfiler()\n",
    "p.add_function(prime)\n",
    "p_warp = p(main)\n",
    "p_warp()\n",
    "p.print_stats()"
   ]
  },
  {
   "cell_type": "markdown",
   "id": "0675b619",
   "metadata": {},
   "source": [
    "测试结论：上述main函数调用了1次，测试了999个整数，找出了168个素数，prime调用了999次，其中168次返回1，831次返回0，测试了78022个因子，每个整数检查了大约78个因子。"
   ]
  },
  {
   "cell_type": "markdown",
   "id": "445d8773",
   "metadata": {},
   "source": [
    "**程序P2：** 对$n$考虑不超过$\\sqrt{n}$的可能的整数因子。"
   ]
  },
  {
   "cell_type": "code",
   "execution_count": 3,
   "id": "dc00c18f",
   "metadata": {},
   "outputs": [],
   "source": [
    "import math\n",
    "\n",
    "from line_profiler import LineProfiler\n",
    "\n",
    "\n",
    "def root(n):\n",
    "    return int(math.sqrt(n))\n",
    "\n",
    "\n",
    "def prime(n):\n",
    "    for i in range(2, root(n) + 1):\n",
    "        if n % i == 0:\n",
    "            return 0\n",
    "    return 1\n",
    "\n",
    "\n",
    "def main():\n",
    "    res = []\n",
    "    n = 1000\n",
    "    for i in range(2, n + 1):\n",
    "        if prime(i):\n",
    "            res.append(i)\n",
    "    return res"
   ]
  },
  {
   "cell_type": "code",
   "execution_count": 4,
   "id": "fcb605b6",
   "metadata": {},
   "outputs": [
    {
     "name": "stdout",
     "output_type": "stream",
     "text": [
      "Timer unit: 1e-07 s\n",
      "\n",
      "Total time: 0.0032815 s\n",
      "File: C:\\Users\\hurui\\AppData\\Local\\Temp\\ipykernel_26816\\3566730837.py\n",
      "Function: prime at line 10\n",
      "\n",
      "Line #      Hits         Time  Per Hit   % Time  Line Contents\n",
      "==============================================================\n",
      "    10                                           def prime(n):\n",
      "    11      5456      18016.0      3.3     54.9      for i in range(2, root(n) + 1):\n",
      "    12      5288      12907.0      2.4     39.3          if n % i == 0:\n",
      "    13       831       1580.0      1.9      4.8              return 0\n",
      "    14       168        312.0      1.9      1.0      return 1\n",
      "\n",
      "Total time: 0.0062173 s\n",
      "File: C:\\Users\\hurui\\AppData\\Local\\Temp\\ipykernel_26816\\3566730837.py\n",
      "Function: main at line 17\n",
      "\n",
      "Line #      Hits         Time  Per Hit   % Time  Line Contents\n",
      "==============================================================\n",
      "    17                                           def main():\n",
      "    18         1          5.0      5.0      0.0      res = []\n",
      "    19         1          2.0      2.0      0.0      n = 1000\n",
      "    20      1000       2000.0      2.0      3.2      for i in range(2, n + 1):\n",
      "    21       999      59586.0     59.6     95.8          if prime(i):\n",
      "    22       168        579.0      3.4      0.9              res.append(i)\n",
      "    23         1          1.0      1.0      0.0      return res\n",
      "\n"
     ]
    }
   ],
   "source": [
    "p = LineProfiler()\n",
    "p.add_function(prime)\n",
    "p_warp = p(main)\n",
    "p_warp()\n",
    "p.print_stats()"
   ]
  },
  {
   "cell_type": "markdown",
   "id": "a56e7c0c",
   "metadata": {},
   "source": [
    "**程序P3：** 将sqrt调用移到循环之外"
   ]
  },
  {
   "cell_type": "code",
   "execution_count": 5,
   "id": "f677f96e",
   "metadata": {},
   "outputs": [],
   "source": [
    "def prime(n):\n",
    "    bound = root(n)\n",
    "    for i in range(2, bound + 1):\n",
    "        if n % i == 0:\n",
    "            return 0\n",
    "    return 1"
   ]
  },
  {
   "cell_type": "code",
   "execution_count": 6,
   "id": "ea02f59f",
   "metadata": {},
   "outputs": [
    {
     "name": "stdout",
     "output_type": "stream",
     "text": [
      "Timer unit: 1e-07 s\n",
      "\n",
      "Total time: 0.0034453 s\n",
      "File: C:\\Users\\hurui\\AppData\\Local\\Temp\\ipykernel_26816\\2702493981.py\n",
      "Function: prime at line 1\n",
      "\n",
      "Line #      Hits         Time  Per Hit   % Time  Line Contents\n",
      "==============================================================\n",
      "     1                                           def prime(n):\n",
      "     2       999       8079.0      8.1     23.4      bound = root(n)\n",
      "     3      5456      12028.0      2.2     34.9      for i in range(2, bound + 1):\n",
      "     4      5288      12337.0      2.3     35.8          if n % i == 0:\n",
      "     5       831       1696.0      2.0      4.9              return 0\n",
      "     6       168        313.0      1.9      0.9      return 1\n",
      "\n",
      "Total time: 0.0067002 s\n",
      "File: C:\\Users\\hurui\\AppData\\Local\\Temp\\ipykernel_26816\\3566730837.py\n",
      "Function: main at line 17\n",
      "\n",
      "Line #      Hits         Time  Per Hit   % Time  Line Contents\n",
      "==============================================================\n",
      "    17                                           def main():\n",
      "    18         1          5.0      5.0      0.0      res = []\n",
      "    19         1          3.0      3.0      0.0      n = 1000\n",
      "    20      1000       2052.0      2.1      3.1      for i in range(2, n + 1):\n",
      "    21       999      64380.0     64.4     96.1          if prime(i):\n",
      "    22       168        560.0      3.3      0.8              res.append(i)\n",
      "    23         1          2.0      2.0      0.0      return res\n",
      "\n"
     ]
    }
   ],
   "source": [
    "p = LineProfiler()\n",
    "p.add_function(prime)\n",
    "p_warp = p(main)\n",
    "p_warp()\n",
    "p.print_stats()"
   ]
  },
  {
   "cell_type": "markdown",
   "id": "71c85c11",
   "metadata": {},
   "source": [
    "**程序P4：** 对2、3和5整除的特殊检验，但是结果不正确。"
   ]
  },
  {
   "cell_type": "code",
   "execution_count": 7,
   "id": "c1c94fa1",
   "metadata": {},
   "outputs": [],
   "source": [
    "def prime(n):\n",
    "    if n % 2 == 0:\n",
    "        return 0\n",
    "    if n % 3 == 0:\n",
    "        return 0\n",
    "    if n % 5 == 0:\n",
    "        return 0\n",
    "    bound = root(n)\n",
    "    for i in range(7, bound + 1, 2):\n",
    "        if n % i == 0:\n",
    "            return 0\n",
    "    return 1"
   ]
  },
  {
   "cell_type": "code",
   "execution_count": 8,
   "id": "e37d23fc",
   "metadata": {},
   "outputs": [
    {
     "name": "stdout",
     "output_type": "stream",
     "text": [
      "Timer unit: 1e-07 s\n",
      "\n",
      "Total time: 0.0017084 s\n",
      "File: C:\\Users\\hurui\\AppData\\Local\\Temp\\ipykernel_26816\\349108320.py\n",
      "Function: prime at line 1\n",
      "\n",
      "Line #      Hits         Time  Per Hit   % Time  Line Contents\n",
      "==============================================================\n",
      "     1                                           def prime(n):\n",
      "     2       999       2635.0      2.6     15.4      if n % 2 == 0:\n",
      "     3       500        986.0      2.0      5.8          return 0\n",
      "     4       499       1294.0      2.6      7.6      if n % 3 == 0:\n",
      "     5       167        322.0      1.9      1.9          return 0\n",
      "     6       332        794.0      2.4      4.6      if n % 5 == 0:\n",
      "     7        67        127.0      1.9      0.7          return 0\n",
      "     8       265       2379.0      9.0     13.9      bound = root(n)\n",
      "     9      1695       4068.0      2.4     23.8      for i in range(7, bound + 1, 2):\n",
      "    10      1530       3904.0      2.6     22.9          if n % i == 0:\n",
      "    11       100        229.0      2.3      1.3              return 0\n",
      "    12       165        346.0      2.1      2.0      return 1\n",
      "\n",
      "Total time: 0.0039979 s\n",
      "File: C:\\Users\\hurui\\AppData\\Local\\Temp\\ipykernel_26816\\3566730837.py\n",
      "Function: main at line 17\n",
      "\n",
      "Line #      Hits         Time  Per Hit   % Time  Line Contents\n",
      "==============================================================\n",
      "    17                                           def main():\n",
      "    18         1          5.0      5.0      0.0      res = []\n",
      "    19         1          2.0      2.0      0.0      n = 1000\n",
      "    20      1000       2210.0      2.2      5.5      for i in range(2, n + 1):\n",
      "    21       999      37187.0     37.2     93.0          if prime(i):\n",
      "    22       165        573.0      3.5      1.4              res.append(i)\n",
      "    23         1          2.0      2.0      0.0      return res\n",
      "\n"
     ]
    }
   ],
   "source": [
    "p = LineProfiler()\n",
    "p.add_function(prime)\n",
    "p_warp = p(main)\n",
    "p_warp()\n",
    "p.print_stats()"
   ]
  },
  {
   "cell_type": "markdown",
   "id": "113127e2",
   "metadata": {},
   "source": [
    "**程序P5:** 把开方运算换成乘法，对被2、3、5整除的正确检验。"
   ]
  },
  {
   "cell_type": "code",
   "execution_count": 11,
   "id": "749811f3",
   "metadata": {},
   "outputs": [],
   "source": [
    "def prime(n):\n",
    "    if n % 2 == 0:\n",
    "        return n == 2\n",
    "    if n % 3 == 0:\n",
    "        return n == 3\n",
    "    if n % 5 == 0:\n",
    "        return n == 5\n",
    "    i = 7\n",
    "    while i * i <= n:\n",
    "        if n % i == 0:\n",
    "            return 0\n",
    "        i += 2\n",
    "\n",
    "    return 1"
   ]
  },
  {
   "cell_type": "code",
   "execution_count": 12,
   "id": "fed65095",
   "metadata": {},
   "outputs": [
    {
     "name": "stdout",
     "output_type": "stream",
     "text": [
      "Timer unit: 1e-07 s\n",
      "\n",
      "Total time: 0.004503 s\n",
      "File: C:\\Users\\hurui\\AppData\\Local\\Temp\\ipykernel_26816\\3566730837.py\n",
      "Function: main at line 17\n",
      "\n",
      "Line #      Hits         Time  Per Hit   % Time  Line Contents\n",
      "==============================================================\n",
      "    17                                           def main():\n",
      "    18         1          6.0      6.0      0.0      res = []\n",
      "    19         1          3.0      3.0      0.0      n = 1000\n",
      "    20      1000       2190.0      2.2      4.9      for i in range(2, n + 1):\n",
      "    21       999      42226.0     42.3     93.8          if prime(i):\n",
      "    22       168        603.0      3.6      1.3              res.append(i)\n",
      "    23         1          2.0      2.0      0.0      return res\n",
      "\n",
      "Total time: 0.0019244 s\n",
      "File: C:\\Users\\hurui\\AppData\\Local\\Temp\\ipykernel_26816\\4250436128.py\n",
      "Function: prime at line 1\n",
      "\n",
      "Line #      Hits         Time  Per Hit   % Time  Line Contents\n",
      "==============================================================\n",
      "     1                                           def prime(n):\n",
      "     2       999       2653.0      2.7     13.8      if n % 2 == 0:\n",
      "     3       500       1176.0      2.4      6.1          return n == 2\n",
      "     4       499       1316.0      2.6      6.8      if n % 3 == 0:\n",
      "     5       167        370.0      2.2      1.9          return n == 3\n",
      "     6       332        786.0      2.4      4.1      if n % 5 == 0:\n",
      "     7        67        144.0      2.1      0.7          return n == 5\n",
      "     8       265        547.0      2.1      2.8      i = 7\n",
      "     9      1695       4537.0      2.7     23.6      while i * i <= n:\n",
      "    10      1530       3806.0      2.5     19.8          if n % i == 0:\n",
      "    11       100        208.0      2.1      1.1              return 0\n",
      "    12      1430       3346.0      2.3     17.4          i += 2\n",
      "    13                                           \n",
      "    14       165        355.0      2.2      1.8      return 1\n",
      "\n"
     ]
    }
   ],
   "source": [
    "p = LineProfiler()\n",
    "p.add_function(prime)\n",
    "p_warp = p(main)\n",
    "p_warp()\n",
    "p.print_stats()"
   ]
  },
  {
   "cell_type": "markdown",
   "id": "ddb3e923",
   "metadata": {},
   "source": [
    "## 1.2 使用性能监视工具"
   ]
  },
  {
   "cell_type": "markdown",
   "id": "a5d460c9",
   "metadata": {},
   "source": [
    "> Don Kunth的一篇论文中写道：“一个程序中不到4%的语句通常占用了一半以上的运行时间”"
   ]
  },
  {
   "cell_type": "markdown",
   "id": "084c07f7",
   "metadata": {},
   "source": [
    "对于不处理I/O密集型的大多数程序，大部分的运行时间花在了很小的一部分代码上。"
   ]
  },
  {
   "cell_type": "markdown",
   "id": "6bb972f6",
   "metadata": {},
   "source": [
    "## 1.3 原理"
   ]
  },
  {
   "cell_type": "markdown",
   "id": "63bceb9a",
   "metadata": {},
   "source": [
    "- 使用性能监视工具\n",
    "- 开发性能监视工具：在Python中，可以使用IDE自带的Profile，适用于调用链的排查；可以应用line_profile包，适用于模块化代码的性能分析。"
   ]
  }
 ],
 "metadata": {
  "kernelspec": {
   "display_name": "Python 3 (ipykernel)",
   "language": "python",
   "name": "python3"
  },
  "language_info": {
   "codemirror_mode": {
    "name": "ipython",
    "version": 3
   },
   "file_extension": ".py",
   "mimetype": "text/x-python",
   "name": "python",
   "nbconvert_exporter": "python",
   "pygments_lexer": "ipython3",
   "version": "3.10.5"
  }
 },
 "nbformat": 4,
 "nbformat_minor": 5
}
