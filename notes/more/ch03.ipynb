{
 "cells": [
  {
   "cell_type": "markdown",
   "id": "81401dbe",
   "metadata": {
    "collapsed": true
   },
   "source": [
    "# 第3章 程序员的忏悔"
   ]
  },
  {
   "cell_type": "markdown",
   "id": "3f3563cf",
   "metadata": {},
   "source": [
    "## 3.1 二分搜索"
   ]
  },
  {
   "cell_type": "markdown",
   "id": "161cdc8c",
   "metadata": {},
   "source": [
    "测试方法包括黑盒测试和白盒测试：\n",
    "- 黑盒方法：完全不知道程序的内部结构，把程序当成一个黑盒，测试者准备好一系列输入，并通过程序输出来确定程序是否正确。\n",
    "- 白盒方法：将代码放到一个白盒子中，看着程序一步步运行。"
   ]
  },
  {
   "cell_type": "code",
   "execution_count": 18,
   "id": "ba3ced6a",
   "metadata": {},
   "outputs": [],
   "source": [
    "def bsearch(x, t):\n",
    "    n = len(x[1:])\n",
    "    l = 1\n",
    "    u = n\n",
    "    cnt = 0\n",
    "    while l <= u:\n",
    "        m = (l + u) // 2\n",
    "        print(\"   \", l, m, u)\n",
    "        if x[m] < t:\n",
    "            # 该段代码有问题\n",
    "            l = m\n",
    "        elif x[m] > t:\n",
    "            # 该段代码有问题\n",
    "            u = m\n",
    "        else:\n",
    "            return m\n",
    "        \n",
    "    return 0"
   ]
  },
  {
   "cell_type": "code",
   "execution_count": 19,
   "id": "c83735ed",
   "metadata": {},
   "outputs": [],
   "source": [
    "def main_run(args):\n",
    "    global n, x\n",
    "    match args[0]:\n",
    "        case \"fill\":\n",
    "            n = args[1]\n",
    "            x = [10 * i for i in range(n + 1)]\n",
    "        case \"n\":\n",
    "            n = args[1]\n",
    "        case \"x\":\n",
    "            x[args[1]] = args[2]\n",
    "        case \"print\":\n",
    "            for i in range(1, n + 1):\n",
    "                print(i, \":\\t\", x[i])\n",
    "        case \"search\":\n",
    "            t = bsearch(x, args[1])\n",
    "            print(\"result:\", t)"
   ]
  },
  {
   "cell_type": "code",
   "execution_count": 20,
   "id": "519c601b",
   "metadata": {},
   "outputs": [
    {
     "name": "stdout",
     "output_type": "stream",
     "text": [
      "1 :\t 10\n",
      "2 :\t 20\n",
      "3 :\t 30\n",
      "4 :\t 40\n",
      "5 :\t 50\n"
     ]
    }
   ],
   "source": [
    "main_run([\"fill\", 5])\n",
    "main_run([\"print\"])"
   ]
  },
  {
   "cell_type": "code",
   "execution_count": 21,
   "id": "52411a67",
   "metadata": {},
   "outputs": [
    {
     "name": "stdout",
     "output_type": "stream",
     "text": [
      "    1 3 5\n",
      "    1 2 3\n",
      "    1 1 2\n",
      "result: 1\n"
     ]
    }
   ],
   "source": [
    "main_run([\"search\", 10])"
   ]
  },
  {
   "cell_type": "code",
   "execution_count": 22,
   "id": "8c5f3e9a",
   "metadata": {},
   "outputs": [
    {
     "name": "stdout",
     "output_type": "stream",
     "text": [
      "    1 3 5\n",
      "    3 4 5\n",
      "result: 4\n"
     ]
    }
   ],
   "source": [
    "main_run([\"search\", 40])"
   ]
  },
  {
   "cell_type": "code",
   "execution_count": 23,
   "id": "ca68340c",
   "metadata": {},
   "outputs": [
    {
     "name": "stdout",
     "output_type": "stream",
     "text": [
      "    1 3 5\n",
      "result: 3\n"
     ]
    }
   ],
   "source": [
    "main_run([\"search\", 30])"
   ]
  },
  {
   "cell_type": "code",
   "execution_count": 24,
   "id": "153d506d",
   "metadata": {},
   "outputs": [],
   "source": [
    "# 该代码会陷入无限循环\n",
    "# main_run([\"search\", 50])"
   ]
  },
  {
   "cell_type": "code",
   "execution_count": 28,
   "id": "333f5024",
   "metadata": {},
   "outputs": [],
   "source": [
    "def bsearch(x, t):\n",
    "    n = len(x[1:])\n",
    "    l = 1\n",
    "    u = n\n",
    "    cnt = 0\n",
    "    while l <= u:\n",
    "        m = (l + u) // 2\n",
    "        print(\"   \", l, m, u)\n",
    "        if x[m] < t:\n",
    "            # 修改代码\n",
    "            l = m + 1\n",
    "        elif x[m] > t:\n",
    "            # 修改代码\n",
    "            u = m - 1\n",
    "        else:\n",
    "            return m\n",
    "        \n",
    "    return 0"
   ]
  },
  {
   "cell_type": "code",
   "execution_count": 29,
   "id": "5e826ab7",
   "metadata": {},
   "outputs": [
    {
     "name": "stdout",
     "output_type": "stream",
     "text": [
      "1 :\t 10\n",
      "2 :\t 10\n"
     ]
    }
   ],
   "source": [
    "main_run([\"fill\", 5])\n",
    "main_run([\"x\", 2, 10])\n",
    "main_run([\"n\", 2])\n",
    "main_run([\"print\"])"
   ]
  },
  {
   "cell_type": "code",
   "execution_count": 30,
   "id": "86839205",
   "metadata": {
    "scrolled": false
   },
   "outputs": [
    {
     "name": "stdout",
     "output_type": "stream",
     "text": [
      "    1 3 5\n",
      "    1 1 2\n",
      "    2 2 2\n",
      "result: 0\n"
     ]
    }
   ],
   "source": [
    "main_run([\"search\", 20])"
   ]
  },
  {
   "cell_type": "markdown",
   "id": "299e21c9",
   "metadata": {},
   "source": [
    "## 3.2 选择算法"
   ]
  },
  {
   "cell_type": "code",
   "execution_count": 34,
   "id": "7a6a8428",
   "metadata": {},
   "outputs": [],
   "source": [
    "import random\n",
    "\n",
    "random.seed(2023)"
   ]
  },
  {
   "cell_type": "code",
   "execution_count": 35,
   "id": "435457c2",
   "metadata": {},
   "outputs": [],
   "source": [
    "def select(x, k):\n",
    "    global comps\n",
    "    l = 0\n",
    "    u = len(x) - 1\n",
    "    while l < u:\n",
    "        print(l + 1, u + 1)\n",
    "        rand_l = l + int((u - l + 1) * random.random())\n",
    "        x[l], x[rand_l] = x[rand_l], x[l]\n",
    "        m = l\n",
    "        comps = comps + u - l\n",
    "        for i in range(l + 1, u + 1):\n",
    "            if x[i] < x[l]:\n",
    "                m += 1\n",
    "                x[m], x[i] = x[i], x[m]\n",
    "        x[m], x[l] = x[l], x[m]\n",
    "        if m < k:\n",
    "            l = m + 1\n",
    "        elif m > k:\n",
    "            u = m - 1"
   ]
  },
  {
   "cell_type": "code",
   "execution_count": 40,
   "id": "cb54b697",
   "metadata": {},
   "outputs": [],
   "source": [
    "def main_run(args):\n",
    "    global n, x, comps\n",
    "    match args[0]:\n",
    "        case \"fill\":\n",
    "            n = args[1]\n",
    "            x = [random.random() for _ in range(n)]\n",
    "        case \"n\":\n",
    "            n = args[1]\n",
    "        case \"x\":\n",
    "            x[args[1] - 1] = args[2]\n",
    "        case \"print\":\n",
    "            for i in range(n):\n",
    "                print(\"   \", x[i])\n",
    "        case \"sel\":\n",
    "            comps = 0\n",
    "            k = args[1] - 1\n",
    "            select(x, args[1] - 1)\n",
    "            print(\"  compares:\", comps)\n",
    "            print(\"  compares/n:\", comps / n)\n",
    "            for i in range(k):\n",
    "                if x[i] > x[k]:\n",
    "                    print(i)\n",
    "            for i in range(k + 1, n):\n",
    "                if x[i] < x[k]:\n",
    "                    print(i)"
   ]
  },
  {
   "cell_type": "code",
   "execution_count": 41,
   "id": "536672a4",
   "metadata": {},
   "outputs": [
    {
     "name": "stdout",
     "output_type": "stream",
     "text": [
      "    0.6967892313882246\n",
      "    0.7183645108908121\n",
      "    0.30115813894583654\n",
      "    0.2326647931071435\n",
      "    0.9777424926127241\n"
     ]
    }
   ],
   "source": [
    "main_run([\"fill\", 5])\n",
    "main_run([\"print\"])"
   ]
  },
  {
   "cell_type": "code",
   "execution_count": 42,
   "id": "c897e7f4",
   "metadata": {},
   "outputs": [
    {
     "name": "stdout",
     "output_type": "stream",
     "text": [
      "1 5\n",
      "1 5\n",
      "2 5\n",
      "2 5\n",
      "2 3\n",
      "2 3\n",
      "2 3\n",
      "  compares: 17\n",
      "  compares/n: 3.4\n",
      "    0.2326647931071435\n",
      "    0.30115813894583654\n",
      "    0.6967892313882246\n",
      "    0.7183645108908121\n",
      "    0.9777424926127241\n"
     ]
    }
   ],
   "source": [
    "main_run([\"sel\", 3])\n",
    "main_run([\"print\"])"
   ]
  },
  {
   "cell_type": "markdown",
   "id": "a8fc574c",
   "metadata": {},
   "source": [
    "程序结果看上去是正确的，但是计算过程却很可疑。"
   ]
  },
  {
   "cell_type": "code",
   "execution_count": 43,
   "id": "75e77716",
   "metadata": {},
   "outputs": [
    {
     "name": "stdout",
     "output_type": "stream",
     "text": [
      "    5\n",
      "    5\n"
     ]
    }
   ],
   "source": [
    "main_run([\"fill\", 2])\n",
    "main_run([\"x\", 1, 5])\n",
    "main_run([\"x\", 2, 5])\n",
    "main_run([\"print\"])"
   ]
  },
  {
   "cell_type": "code",
   "execution_count": 44,
   "id": "6eff360c",
   "metadata": {},
   "outputs": [],
   "source": [
    "# 会导致无限循环\n",
    "# main_run([\"sel\", 2])"
   ]
  },
  {
   "cell_type": "code",
   "execution_count": 46,
   "id": "682fd789",
   "metadata": {},
   "outputs": [],
   "source": [
    "def select(x, k):\n",
    "    global comps\n",
    "    l = 0\n",
    "    u = len(x) - 1\n",
    "    while l < u:\n",
    "        rand_l = l + int((u - l + 1) * random.random())\n",
    "        x[l], x[rand_l] = x[rand_l], x[l]\n",
    "        # 修改代码\n",
    "        t = x[l]\n",
    "        m = l\n",
    "        comps = comps + u - l\n",
    "        for i in range(l + 1, u + 1):\n",
    "            # 修改代码\n",
    "            if x[i] < t:\n",
    "                m += 1\n",
    "                x[m], x[i] = x[i], x[m]\n",
    "        x[m], x[l] = x[l], x[m]\n",
    "        # 修改代码\n",
    "        if m <= k:\n",
    "            l = m + 1\n",
    "        elif m >= k:\n",
    "            u = m - 1"
   ]
  },
  {
   "cell_type": "code",
   "execution_count": 47,
   "id": "0b209329",
   "metadata": {},
   "outputs": [
    {
     "name": "stdout",
     "output_type": "stream",
     "text": [
      "  compares: 93\n",
      "  compares/n: 1.86\n",
      "  compares: 310\n",
      "  compares/n: 3.1\n"
     ]
    }
   ],
   "source": [
    "main_run([\"fill\", 50])\n",
    "main_run([\"sel\", 25])\n",
    "main_run([\"fill\", 100])\n",
    "main_run([\"sel\", 50])"
   ]
  },
  {
   "cell_type": "markdown",
   "id": "9b74ea46",
   "metadata": {},
   "source": [
    "## 3.3 原理"
   ]
  },
  {
   "cell_type": "markdown",
   "id": "22c414b9",
   "metadata": {},
   "source": [
    "- 脚手架：从程序原型、在程序中加入输出以观察运行过程、度量代码以及组件测试等方法构建脚手架，还可以使用测试数据（虚拟文件和数据结构）以及使用“残桩”代码模拟未完成的程序，用于自顶向下的测试。\n",
    "- 专用语言：使用合适的编程语言可以使代码的长度减少一个量级，清晰程度上升一个量级。\n",
    "- 测试与调试：先使用白盒测试的方法观察程序是否按照预想的方法运行，然后再用黑盒测试来增加自己对于程序正确性的信心。\n",
    "- 错误报告：对于子程序库的组件测试会在不经意间变成对于Awk最近新引入特性的一次系统测试。"
   ]
  },
  {
   "cell_type": "markdown",
   "id": "3d774f78",
   "metadata": {},
   "source": [
    "> 新用户现象：新系统的每一个新用户都能够发现一系列的新错误。"
   ]
  }
 ],
 "metadata": {
  "kernelspec": {
   "display_name": "Python 3 (ipykernel)",
   "language": "python",
   "name": "python3"
  },
  "language_info": {
   "codemirror_mode": {
    "name": "ipython",
    "version": 3
   },
   "file_extension": ".py",
   "mimetype": "text/x-python",
   "name": "python",
   "nbconvert_exporter": "python",
   "pygments_lexer": "ipython3",
   "version": "3.10.5"
  }
 },
 "nbformat": 4,
 "nbformat_minor": 5
}
