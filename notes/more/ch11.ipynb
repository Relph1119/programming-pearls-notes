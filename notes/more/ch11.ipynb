{
 "cells": [
  {
   "cell_type": "markdown",
   "id": "91b476c7",
   "metadata": {
    "collapsed": true
   },
   "source": [
    "# 第11章 图形化输出"
   ]
  },
  {
   "cell_type": "markdown",
   "id": "4eee5b0f",
   "metadata": {},
   "source": [
    "本章笔记仅记录第11.3节原理内容，其他的内容主要是通过图形方式展现数据，具体可以阅读《科研论文配图绘制指南（基于Python）》"
   ]
  },
  {
   "cell_type": "markdown",
   "id": "b9437225",
   "metadata": {},
   "source": [
    "## 11.1 原理"
   ]
  },
  {
   "cell_type": "markdown",
   "id": "e3fbf881",
   "metadata": {},
   "source": [
    "- 图的表现力：图可以简洁明快地描述一系列复杂的关系，最生动的图只需要眼睛看而不需要大脑想。图应当被用来显示数据的结构及其关系，而很少被用来展示细节。\n",
    "- 统计完整性：准确性是基本要求。\n",
    "- 美观：图必须引人注目。优雅的图设计简单又能突出数据。"
   ]
  },
  {
   "cell_type": "markdown",
   "id": "80b992e9",
   "metadata": {},
   "source": [
    "- 过程：分为三个阶段：\n",
    "    1. 探索阶段：忽略图的外观，只集中显示数据趋势。\n",
    "    2. 确证阶段：利用基本统计学来确定数据趋势是有意义的。\n",
    "    3. 表达阶段：选择图的最终形式并用适当的媒介作图。"
   ]
  }
 ],
 "metadata": {
  "kernelspec": {
   "display_name": "Python 3 (ipykernel)",
   "language": "python",
   "name": "python3"
  },
  "language_info": {
   "codemirror_mode": {
    "name": "ipython",
    "version": 3
   },
   "file_extension": ".py",
   "mimetype": "text/x-python",
   "name": "python",
   "nbconvert_exporter": "python",
   "pygments_lexer": "ipython3",
   "version": "3.10.5"
  }
 },
 "nbformat": 4,
 "nbformat_minor": 5
}
