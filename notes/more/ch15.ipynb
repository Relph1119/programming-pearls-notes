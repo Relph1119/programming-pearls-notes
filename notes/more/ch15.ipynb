{
 "cells": [
  {
   "cell_type": "markdown",
   "id": "ffd095b9",
   "metadata": {
    "collapsed": true
   },
   "source": [
    "# 第15章 选择"
   ]
  },
  {
   "cell_type": "code",
   "execution_count": 1,
   "id": "1071ad60",
   "metadata": {},
   "outputs": [],
   "source": [
    "import random\n",
    "\n",
    "random.seed(2023)"
   ]
  },
  {
   "cell_type": "markdown",
   "id": "c8dc9f04",
   "metadata": {},
   "source": [
    "## 15.1 问题"
   ]
  },
  {
   "cell_type": "markdown",
   "id": "a0eeb742",
   "metadata": {},
   "source": [
    "问题描述：计算中位数或其他百分位数来分析选择算法的运行时间。"
   ]
  },
  {
   "cell_type": "markdown",
   "id": "e1e6990f",
   "metadata": {},
   "source": [
    "输入是正整数$N$、数组$X[1..N]$以及正整数$K$（$\\leqslant N$）。程序必须排列数组，使得$X[1..K{-1}] \\leqslant X[K] \\leqslant X[K{+1}..N]$，可得到第$K$小的元素。"
   ]
  },
  {
   "cell_type": "markdown",
   "id": "365651ff",
   "metadata": {},
   "source": [
    "## 15.2 程序"
   ]
  },
  {
   "cell_type": "code",
   "execution_count": 2,
   "id": "e4a09792",
   "metadata": {},
   "outputs": [],
   "source": [
    "def select(x, k):\n",
    "    l = 0\n",
    "    u = len(x)\n",
    "    while l < u:\n",
    "        rand = random.randint(l, u)\n",
    "        x[l], x[rand] = x[rand], x[l]\n",
    "        m = l\n",
    "        for i in range(l + 1, u):\n",
    "            if x[i] < x[l]:\n",
    "                m += 1\n",
    "                x[m], x[i] = x[i], x[m]\n",
    "        x[m], x[l] = x[l], x[m]\n",
    "        if k <= m:\n",
    "            u = m - 1\n",
    "        elif k >= m:\n",
    "            l = m + 1"
   ]
  },
  {
   "cell_type": "code",
   "execution_count": 4,
   "id": "e93fe50d",
   "metadata": {},
   "outputs": [
    {
     "name": "stdout",
     "output_type": "stream",
     "text": [
      "original x: [0.78448841813117, 0.6510308258486697, 0.8384093470632227, 0.5317938008782603, 0.5275960587051371]\n",
      "x of after select: [0.5275960587051371, 0.5317938008782603, 0.6510308258486697, 0.78448841813117, 0.8384093470632227]\n",
      "x2: 0.6510308258486697\n"
     ]
    }
   ],
   "source": [
    "x = [random.random() for _ in range(5)]\n",
    "print(\"original x:\", x)\n",
    "k = 3\n",
    "select(x, k - 1)\n",
    "print(\"x of after select:\", x)\n",
    "print(f\"x{k - 1}: {x[k -1]}\")"
   ]
  },
  {
   "cell_type": "markdown",
   "id": "229cc2c5",
   "metadata": {},
   "source": [
    "## 15.3 原理"
   ]
  },
  {
   "cell_type": "markdown",
   "id": "5861c0d2",
   "metadata": {},
   "source": [
    "- 系统分析：可使用图说明算法的工作情况，也可使用观察程序工作情况和测试程序的脚手架平台（第3章）。\n",
    "- 骨架程序：无需执行完整程序的所有动作就能够提供关于算法的信息。\n",
    "- 分析中的图形化方法：使用图形展示计算过程，理解算法的正确性，用图来分析大量的实验数据。"
   ]
  }
 ],
 "metadata": {
  "kernelspec": {
   "display_name": "Python 3 (ipykernel)",
   "language": "python",
   "name": "python3"
  },
  "language_info": {
   "codemirror_mode": {
    "name": "ipython",
    "version": 3
   },
   "file_extension": ".py",
   "mimetype": "text/x-python",
   "name": "python",
   "nbconvert_exporter": "python",
   "pygments_lexer": "ipython3",
   "version": "3.10.5"
  }
 },
 "nbformat": 4,
 "nbformat_minor": 5
}
