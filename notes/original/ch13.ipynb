{
 "cells": [
  {
   "cell_type": "markdown",
   "id": "37dd5022",
   "metadata": {
    "collapsed": true
   },
   "source": [
    "# 第13章 搜索"
   ]
  },
  {
   "cell_type": "markdown",
   "id": "3baf86ef",
   "metadata": {},
   "source": [
    "## 13.1 接口"
   ]
  },
  {
   "cell_type": "markdown",
   "id": "32c36425",
   "metadata": {},
   "source": [
    "根据上一章的问题：生成`[0, maxval]`范围内$m$个随机整数的有序序列，不允许重复。\n",
    "\n",
    "将待生成的数据结构成为`IntSet`，表示整数集合，可定义以下接口："
   ]
  },
  {
   "cell_type": "code",
   "execution_count": 1,
   "id": "5e5477f2",
   "metadata": {},
   "outputs": [],
   "source": [
    "import sys\n",
    "import random\n",
    "\n",
    "random.seed(2023)\n",
    "\n",
    "def bigrand():\n",
    "    return int(sys.maxsize * random.random() +  random.random())"
   ]
  },
  {
   "cell_type": "code",
   "execution_count": 2,
   "id": "9712b84b",
   "metadata": {},
   "outputs": [],
   "source": [
    "from dataclasses import dataclass\n",
    "import abc\n",
    "\n",
    "@dataclass\n",
    "class IntSetImp:\n",
    "    maxelements: int\n",
    "    maxval: int\n",
    "\n",
    "    @abc.abstractmethod\n",
    "    def insert(self, t):\n",
    "        pass\n",
    "\n",
    "    @abc.abstractmethod\n",
    "    def size(self):\n",
    "        pass\n",
    "\n",
    "    @abc.abstractmethod\n",
    "    def report(self, v):\n",
    "        pass"
   ]
  },
  {
   "cell_type": "code",
   "execution_count": 3,
   "id": "ed06dcf0",
   "metadata": {},
   "outputs": [],
   "source": [
    "def gensets(m, maxval, setImp):\n",
    "    S = setImp(m, maxval)\n",
    "    v = []\n",
    "    while S.size() < m:\n",
    "        S.insert(bigrand() % maxval)\n",
    "\n",
    "    S.report(v)\n",
    "    return v[:m]"
   ]
  },
  {
   "cell_type": "code",
   "execution_count": 4,
   "id": "f4b25bde",
   "metadata": {},
   "outputs": [],
   "source": [
    "class IntSetSTL(IntSetImp):\n",
    "    S = set()\n",
    "\n",
    "    def size(self):\n",
    "        return len(self.S)\n",
    "\n",
    "    def insert(self, t):\n",
    "        self.S.add(t)\n",
    "\n",
    "    def report(self, v):\n",
    "        v.extend(list(self.S))"
   ]
  },
  {
   "cell_type": "code",
   "execution_count": 5,
   "id": "56015992",
   "metadata": {},
   "outputs": [
    {
     "data": {
      "text/plain": [
       "[0, 4]"
      ]
     },
     "execution_count": 5,
     "metadata": {},
     "output_type": "execute_result"
    }
   ],
   "source": [
    "gensets(2, 5, IntSetSTL)"
   ]
  },
  {
   "cell_type": "markdown",
   "id": "8cc1491f",
   "metadata": {},
   "source": [
    "## 13.2 线性结构"
   ]
  },
  {
   "cell_type": "markdown",
   "id": "5c52be6f",
   "metadata": {},
   "source": [
    "如果事先知道集合的大小，数组是一种比较理想的结构。"
   ]
  },
  {
   "cell_type": "code",
   "execution_count": 6,
   "id": "f91b59e7",
   "metadata": {},
   "outputs": [],
   "source": [
    "class IntSetArray(IntSetImp):\n",
    "\n",
    "    def __init__(self, maxelements, maxval):\n",
    "        super().__init__(maxelements, maxval)\n",
    "        self.x = [0] * (1 + maxelements)\n",
    "        self.n = 0\n",
    "        self.x[0] = maxval\n",
    "\n",
    "    def size(self):\n",
    "        return self.n\n",
    "\n",
    "    def insert(self, t):\n",
    "        i = 0\n",
    "        while self.x[i] < t:\n",
    "            i += 1\n",
    "        if self.x[i] == t:\n",
    "            return\n",
    "        for j in range(self.n, i - 1, -1):\n",
    "            self.x[j + 1] = self.x[j]\n",
    "\n",
    "        self.x[i] = t\n",
    "        self.n += 1\n",
    "\n",
    "    def report(self, v):\n",
    "        for i in range(self.n + 1):\n",
    "            v.append(self.x[i])"
   ]
  },
  {
   "cell_type": "code",
   "execution_count": 7,
   "id": "7535d588",
   "metadata": {},
   "outputs": [
    {
     "data": {
      "text/plain": [
       "[0, 3]"
      ]
     },
     "execution_count": 7,
     "metadata": {},
     "output_type": "execute_result"
    }
   ],
   "source": [
    "gensets(2, 5, IntSetArray)"
   ]
  },
  {
   "cell_type": "markdown",
   "id": "fade9c69",
   "metadata": {},
   "source": [
    "如果事先不知道集合的大小，链表将是表示集合的首选结构。"
   ]
  },
  {
   "cell_type": "code",
   "execution_count": 12,
   "id": "64a6bd9c",
   "metadata": {},
   "outputs": [],
   "source": [
    "class IntSetList(IntSetImp):\n",
    "    class node:\n",
    "        def __init__(self, v, p):\n",
    "            self.val = v\n",
    "            self.next = p\n",
    "\n",
    "        def __eq__(self, other):\n",
    "            return self.val == other.val\n",
    "\n",
    "    def __init__(self, maxelements, maxval):\n",
    "        super().__init__(maxelements, maxval)\n",
    "        self.n = 0\n",
    "        self.sentinel = self.node(maxval, 0)\n",
    "        self.head = self.node(maxval, 0)\n",
    "\n",
    "    def insert(self, t):\n",
    "        self.head = self.rinsert(self.head, t)\n",
    "\n",
    "    def rinsert(self, p, t):\n",
    "        if p.val < t:\n",
    "            p.next = self.rinsert(p.next, t)\n",
    "        elif p.val > t:\n",
    "            p = self.node(t, p)\n",
    "            self.n += 1\n",
    "        return p\n",
    "\n",
    "    def report(self, v):\n",
    "        p = self.head\n",
    "        while p != self.sentinel:\n",
    "            v.append(p.val)\n",
    "            p = p.next\n",
    "\n",
    "    def size(self):\n",
    "        return self.n"
   ]
  },
  {
   "cell_type": "code",
   "execution_count": 13,
   "id": "a3432f9d",
   "metadata": {},
   "outputs": [
    {
     "data": {
      "text/plain": [
       "[0, 3]"
      ]
     },
     "execution_count": 13,
     "metadata": {},
     "output_type": "execute_result"
    }
   ],
   "source": [
    "gensets(2, 5, IntSetList)"
   ]
  },
  {
   "cell_type": "markdown",
   "id": "79962cab",
   "metadata": {},
   "source": [
    "## 13.3 二分搜索树"
   ]
  },
  {
   "cell_type": "markdown",
   "id": "51a7cd0d",
   "metadata": {},
   "source": [
    "二分搜索树的原理：\n",
    "1. 初始化树的时候将根设置为空。\n",
    "2. 插入函数遍历这棵树，直到找到该值（搜索终止）或在整棵树中都没有找到该值（插入该结点）。\n",
    "3. 中序遍历首先处理左子树，然后输出结点本身，最后处理右子树。"
   ]
  },
  {
   "cell_type": "code",
   "execution_count": 10,
   "id": "c95c587e",
   "metadata": {},
   "outputs": [],
   "source": [
    "class IntSetBST(IntSetImp):\n",
    "    class node:\n",
    "        def __init__(self, i):\n",
    "            self.val = i\n",
    "            self.left = 0\n",
    "            self.right = 0\n",
    "\n",
    "        def __eq__(self, other):\n",
    "            return self.val == other.val\n",
    "\n",
    "    def __init__(self, maxelements, maxval):\n",
    "        super().__init__(maxelements, maxval)\n",
    "        self.n = 0\n",
    "        self.root = 0\n",
    "\n",
    "    def insert(self, t):\n",
    "        self.root = self.rinsert(self.root, t)\n",
    "\n",
    "    def report(self, x):\n",
    "        self.v = x\n",
    "        self.vn = 0\n",
    "        self.traverse(self.root)\n",
    "\n",
    "    def rinsert(self, p, t):\n",
    "        if isinstance(p, int) and p == 0:\n",
    "            p = self.node(t)\n",
    "            self.n += 1\n",
    "        elif t < p.val:\n",
    "            # 左子树\n",
    "            p.left = self.rinsert(p.left, t)\n",
    "        elif t > p.val:\n",
    "            p.right = self.rinsert(p.right, t)\n",
    "\n",
    "        return p\n",
    "\n",
    "    def traverse(self, p):\n",
    "        if isinstance(p, int) and p == 0:\n",
    "            return\n",
    "\n",
    "        self.traverse(p.left)\n",
    "        self.v.append(p.val)\n",
    "        self.traverse(p.right)\n",
    "\n",
    "    def size(self):\n",
    "        return self.n"
   ]
  },
  {
   "cell_type": "code",
   "execution_count": 11,
   "id": "520a4c53",
   "metadata": {},
   "outputs": [
    {
     "data": {
      "text/plain": [
       "[0, 2]"
      ]
     },
     "execution_count": 11,
     "metadata": {},
     "output_type": "execute_result"
    }
   ],
   "source": [
    "gensets(2, 5, IntSetBST)"
   ]
  },
  {
   "cell_type": "markdown",
   "id": "3535e086",
   "metadata": {},
   "source": [
    "## 13.4 用于整数的结构"
   ]
  },
  {
   "cell_type": "markdown",
   "id": "2f4c56ea",
   "metadata": {},
   "source": [
    "箱：结合链表和位向量的优点，在箱序列中放入整数，可以将箱序列看作一种散列，每个箱中的整数用一个有序链表表示，由于整数是均匀分布的，所以每个链表的期望长度都是1。"
   ]
  },
  {
   "cell_type": "code",
   "execution_count": 14,
   "id": "1cb7799f",
   "metadata": {},
   "outputs": [],
   "source": [
    "class IntSetBins(IntSetImp):\n",
    "    class node:\n",
    "        def __init__(self, v=0, p=None):\n",
    "            self.val = v\n",
    "            self.next = p\n",
    "\n",
    "        def __eq__(self, other):\n",
    "            return self.val == other.val\n",
    "\n",
    "    def __init__(self, maxelements, pmaxval):\n",
    "        super().__init__(maxelements, pmaxval)\n",
    "        self.bins = maxelements\n",
    "        self.maxval = pmaxval\n",
    "        self.bin = [self.node(self.maxval, 0) for _ in range(self.bins)]\n",
    "        self.sentinel = self.node(self.maxval, 0)\n",
    "        self.n = 0\n",
    "\n",
    "    def insert(self, t):\n",
    "        i = int(t // (1 + self.maxval / self.bins))\n",
    "        self.bin[i] = self.rinsert(self.bin[i], t)\n",
    "\n",
    "    def report(self, v):\n",
    "        for i in range(self.bins):\n",
    "            p = self.bin[i]\n",
    "            while p != self.sentinel:\n",
    "                v.append(p.val)\n",
    "                p = p.next\n",
    "\n",
    "    def rinsert(self, p, t):\n",
    "        if p.val < t:\n",
    "            p.next = self.rinsert(p.next, t)\n",
    "        elif p.val > t:\n",
    "            p = self.node(t, p)\n",
    "            self.n += 1\n",
    "\n",
    "        return p\n",
    "\n",
    "    def size(self):\n",
    "        return self.n"
   ]
  },
  {
   "cell_type": "code",
   "execution_count": 15,
   "id": "19a5a779",
   "metadata": {},
   "outputs": [
    {
     "data": {
      "text/plain": [
       "[0, 2]"
      ]
     },
     "execution_count": 15,
     "metadata": {},
     "output_type": "execute_result"
    }
   ],
   "source": [
    "gensets(2, 5, IntSetBins)"
   ]
  },
  {
   "cell_type": "markdown",
   "id": "d55501b3",
   "metadata": {},
   "source": [
    "## 13.5 原理"
   ]
  },
  {
   "cell_type": "markdown",
   "id": "b4a3c7e9",
   "metadata": {},
   "source": [
    "- 库的作用：当遇到涉及数据结构的问题时，第一反应是寻找解决问题的工具。\n",
    "- 空间的重要性：考虑数据的空间，也能优化程序的运行时间。\n",
    "- 代码调优方法：最显著的改进就是用只分配一个较大内存块的方案来代替通用内存分配，能消除很多开销较大的调用，也使空间的利用更加有效。"
   ]
  },
  {
   "cell_type": "markdown",
   "id": "2a85e695",
   "metadata": {},
   "source": [
    "## 13.6 一个实际搜索问题（边栏）"
   ]
  },
  {
   "cell_type": "markdown",
   "id": "e259aec9",
   "metadata": {},
   "source": [
    "**项目背景：**\n",
    "\n",
    "作者使用Doug McIlroy于1978年写的spell程序对本书各章进行拼写检查。sepll程序是用于表示字典。"
   ]
  },
  {
   "cell_type": "markdown",
   "id": "2580dc15",
   "metadata": {},
   "source": [
    "**问题分析：**\n",
    "\n",
    "1. 组成单词列表：用完整版字典和有百万单词的布朗大学英语语料库求交集，得到单词列表。处理专有名词，包含人名、财富500强中的公司名、出版公司的名字、地理名词。添加了动植物的常用名，以及化学、解剖学中的术语，计算机术语等。\n",
    "2. 采用最具有一般性的解决方法，精选75000个单词，组成列表。\n",
    "3. 使用词缀分析从单词中去除前后缀，去掉mis-、re-、pre-和-ed。\n",
    "4. 利用程序的表中包含40条前缀法则和30条后缀法则，使用一个具有1300项例外的“终止列表”来终止符合词缀法则但不正确的猜测。进一步把75000词压缩为30000个单词。"
   ]
  },
  {
   "cell_type": "markdown",
   "id": "05577396",
   "metadata": {},
   "source": [
    "**数据结构表示：**\n",
    "\n",
    "通过散列表示30000个单词，每个单词用27位表示。"
   ]
  },
  {
   "cell_type": "markdown",
   "id": "ac9e2a38",
   "metadata": {},
   "source": [
    "- 方法一：用一个几乎和单词列表一样大的$n$元散列表以及一个把字符串映射为$[0, n)$范围内的整数的散列函数。\n",
    "- 方法二：选择$n=2^{27}$的散列表，在每个表项中仅存放一位，而不是存放单词链表。当查找单词$w$时，程序访问表中的第$h(w)$位，如果该位为0，则报告单词$w$不在表中，如果为1，则认为$w$在表中。"
   ]
  },
  {
   "cell_type": "markdown",
   "id": "0b321292",
   "metadata": {},
   "source": [
    "> 出现错误的概率只有$30000/2^{27}$（约1/4000），即每4000个不正确的单词中只有一个会被认为有效。使用$n=2^{27}$位的字符串白哦是散列表要消耗超过16MB的空间，因此程序仅表示值为1的位。"
   ]
  },
  {
   "cell_type": "markdown",
   "id": "45c5da16",
   "metadata": {},
   "source": [
    "**性能提升：**\n",
    "\n",
    "- McIlory的spell程序平均使用13.6位表示每个差值，节省了几百个额外的字节，加快顺序搜索。\n",
    "- 可以得到64KB的字典，该字典不仅支持快速访问，而且很少出错。"
   ]
  }
 ],
 "metadata": {
  "kernelspec": {
   "display_name": "Python 3 (ipykernel)",
   "language": "python",
   "name": "python3"
  },
  "language_info": {
   "codemirror_mode": {
    "name": "ipython",
    "version": 3
   },
   "file_extension": ".py",
   "mimetype": "text/x-python",
   "name": "python",
   "nbconvert_exporter": "python",
   "pygments_lexer": "ipython3",
   "version": "3.10.5"
  }
 },
 "nbformat": 4,
 "nbformat_minor": 5
}
