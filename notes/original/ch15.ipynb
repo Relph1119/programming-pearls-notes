{
 "cells": [
  {
   "cell_type": "markdown",
   "id": "26306dc3",
   "metadata": {
    "collapsed": true
   },
   "source": [
    "# 第15章 字符串"
   ]
  },
  {
   "cell_type": "markdown",
   "id": "26fdb489",
   "metadata": {},
   "source": [
    "## 15.1 单词"
   ]
  },
  {
   "cell_type": "markdown",
   "id": "9899041b",
   "metadata": {},
   "source": [
    "需求：为文档中包含的单词生成一个列表，统计出现频率最高的单词。读取詹姆斯一世钦定版《圣经》中出现频率最高的21个单词，按数值递减的次序排序。\n",
    "\n",
    "实现：代码使用dict字典表实现。"
   ]
  },
  {
   "cell_type": "code",
   "execution_count": 1,
   "id": "21637416",
   "metadata": {},
   "outputs": [],
   "source": [
    "from collections import defaultdict\n",
    "\n",
    "M = defaultdict(int)\n",
    "\n",
    "with open(\"./data/kjv.txt\", encoding=\"utf8\") as f:\n",
    "    lines = f.readlines()\n",
    "    for line in lines:\n",
    "        words = line.split()\n",
    "        for word in words:\n",
    "            M[word] += 1"
   ]
  },
  {
   "cell_type": "code",
   "execution_count": 3,
   "id": "f8c7049c",
   "metadata": {
    "scrolled": true
   },
   "outputs": [
    {
     "name": "stdout",
     "output_type": "stream",
     "text": [
      "the   62051   shall 9759    they  6893    \n",
      "and   38572   he    9509    be    6717    \n",
      "of    34393   unto  8933    is    6696    \n",
      "to    13367   I     8707    with  5951    \n",
      "And   12739   his   8363    not   5840    \n",
      "that  12454   a     7945    all   5238    \n",
      "in    12167   for   7141    thou  4629    \n"
     ]
    }
   ],
   "source": [
    "result = sorted(M.items(), key=lambda x: -x[1])\n",
    "result = result[:21]\n",
    "\n",
    "rows = 7\n",
    "cols = 3\n",
    "\n",
    "for i in range(7):\n",
    "    for j in range(3):\n",
    "        index = j * rows + i\n",
    "        kv = result[index]\n",
    "        print(\"{:<5} {:<6}\".format(kv[0], kv[1]), end=\"  \")\n",
    "    print()"
   ]
  },
  {
   "cell_type": "markdown",
   "id": "1c4ed39b",
   "metadata": {},
   "source": [
    "通过本节示例，表示单词集合有两种主要方法：\n",
    "- 平衡搜索树将字符串看作不可分割的对象进行操作，set和map大部分实现都使用这种结构。\n",
    "- 散列需要深入字符串内部，计算散列函数，并将关键字分散到一个较大的表中。该方法的平均速度很块。"
   ]
  },
  {
   "cell_type": "markdown",
   "id": "e4b1aabd",
   "metadata": {},
   "source": [
    "## 15.2 短语"
   ]
  },
  {
   "cell_type": "markdown",
   "id": "8b948acc",
   "metadata": {},
   "source": [
    "需求：给定一个文本文件作为输入，查找其中最长的重复子字符串。\n",
    "\n",
    "实现：使用“后缀数组”的数据结构，如果某个长字符串在数组c中出现两次，那么它将出现在两个不同的后缀中。"
   ]
  },
  {
   "cell_type": "code",
   "execution_count": 12,
   "id": "1c5ea1ee",
   "metadata": {},
   "outputs": [],
   "source": [
    "# 构建后缀数组\n",
    "def build_suffix_array(s):\n",
    "    suffixes = [(s[i:], i) for i in range(len(s))]\n",
    "    suffixes.sort()\n",
    "    return [suffix[1] for suffix in suffixes]"
   ]
  },
  {
   "cell_type": "code",
   "execution_count": 13,
   "id": "2e63f6c8",
   "metadata": {},
   "outputs": [],
   "source": [
    "# 比较函数\n",
    "def comlen(s, suffix_array):\n",
    "    lcp_array = [0] * len(s)\n",
    "    inv_suffix_array = [0] * len(s)\n",
    "    for i in range(len(s)):\n",
    "        inv_suffix_array[suffix_array[i]] = i\n",
    "    lcp = 0\n",
    "    for i in range(len(s)):\n",
    "        if inv_suffix_array[i] == len(s) - 1:\n",
    "            lcp = 0\n",
    "            continue\n",
    "        j = suffix_array[inv_suffix_array[i] + 1]\n",
    "        while i + lcp < len(s) and j + lcp < len(s) and s[i + lcp] == s[j + lcp]:\n",
    "            lcp += 1\n",
    "        lcp_array[inv_suffix_array[i] + 1] = lcp\n",
    "        if lcp > 0:\n",
    "            lcp -= 1\n",
    "    return lcp_array"
   ]
  },
  {
   "cell_type": "code",
   "execution_count": 14,
   "id": "eb00d057",
   "metadata": {},
   "outputs": [],
   "source": [
    "def longest_common_substring(s):\n",
    "    suffix_array = build_suffix_array(s)\n",
    "    lcp_array = comlen(s, suffix_array)\n",
    "    result = dict()\n",
    "    for i in range(1, len(s)):\n",
    "        strlen = lcp_array[i]\n",
    "        index = i\n",
    "        substr = s[suffix_array[index]:suffix_array[index] + strlen]\n",
    "        substr = substr.strip()\n",
    "        result[substr] = len(substr)\n",
    "    return result"
   ]
  },
  {
   "cell_type": "code",
   "execution_count": 16,
   "id": "dc4e532c",
   "metadata": {},
   "outputs": [
    {
     "data": {
      "text/plain": [
       "[('can do for you', 14),\n",
       " ('an do for you', 13),\n",
       " ('your country', 12),\n",
       " ('n do for you', 12),\n",
       " ('our country', 11)]"
      ]
     },
     "execution_count": 16,
     "metadata": {},
     "output_type": "execute_result"
    }
   ],
   "source": [
    "s = \"Ask not what your country can do for you, but what you can do for your country\"\n",
    "\n",
    "result = longest_common_substring(s)\n",
    "result = sorted(result.items(), key=lambda x: x[1], reverse=True)\n",
    "result[:5]"
   ]
  },
  {
   "cell_type": "markdown",
   "id": "dca907af",
   "metadata": {},
   "source": [
    "## 15.3 原理"
   ]
  },
  {
   "cell_type": "markdown",
   "id": "f8124181",
   "metadata": {},
   "source": [
    "解决字符串问题的技巧：\n",
    "- 字符串的数据结构\n",
    "- 散列：平均速度很快，且易于实现。\n",
    "- 平衡树：在最坏情况下也有较好的性能。\n",
    "- 后缀数组：初始化指向文本中每个字符（或每个单词）的指针数组，对其排序就得到一个后缀数组，遍历该数组以查找接近的字符串。"
   ]
  }
 ],
 "metadata": {
  "kernelspec": {
   "display_name": "Python 3 (ipykernel)",
   "language": "python",
   "name": "python3"
  },
  "language_info": {
   "codemirror_mode": {
    "name": "ipython",
    "version": 3
   },
   "file_extension": ".py",
   "mimetype": "text/x-python",
   "name": "python",
   "nbconvert_exporter": "python",
   "pygments_lexer": "ipython3",
   "version": "3.10.5"
  }
 },
 "nbformat": 4,
 "nbformat_minor": 5
}
