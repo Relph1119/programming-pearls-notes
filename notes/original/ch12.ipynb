{
 "cells": [
  {
   "cell_type": "markdown",
   "id": "4e75d5c2",
   "metadata": {
    "collapsed": true
   },
   "source": [
    "# 第12章 取样问题"
   ]
  },
  {
   "cell_type": "markdown",
   "id": "578cf386",
   "metadata": {},
   "source": [
    "## 12.1 问题"
   ]
  },
  {
   "cell_type": "markdown",
   "id": "0485a75c",
   "metadata": {},
   "source": [
    "问题背景：一家公司的主要业务是民意调查，需要让计算机自动完成从打印出的选区列表中进行随机取样的任务。"
   ]
  },
  {
   "cell_type": "markdown",
   "id": "cfe2422f",
   "metadata": {},
   "source": [
    "问题描述：程序的输入是选区名列表以及整数$m$，输出是随机选择的$m$个选区名的列表。通常选区名有几百个（每个选区名都是一个不超过12字符的字符串），$m$通常在20\\~40。"
   ]
  },
  {
   "cell_type": "markdown",
   "id": "eb56fa6e",
   "metadata": {},
   "source": [
    "问题重述：程序的输入包含两个整数$m$和$n$，其中$m < n$。输出是0\\~n-1范围内$m$个随机整数的有序列表，不允许重复。从概率的角度说，我们希望得到没有重复的有序选择，其中每个选择出现的概率相等。"
   ]
  },
  {
   "cell_type": "markdown",
   "id": "6ec1506f",
   "metadata": {},
   "source": [
    "## 12.2 一种解决方案"
   ]
  },
  {
   "cell_type": "markdown",
   "id": "a77a095d",
   "metadata": {},
   "source": [
    "算法依次考虑整数$0,1,2,\\cdots, n {- 1}$，并通过一个合适的随机测试对每个整数进行选择，通过按序访问整数，可以保证输出结果是有序的。"
   ]
  },
  {
   "cell_type": "code",
   "execution_count": 38,
   "id": "d8e595cc",
   "metadata": {},
   "outputs": [],
   "source": [
    "import sys\n",
    "import random\n",
    "\n",
    "random.seed(2023)\n",
    "\n",
    "def bigrand():\n",
    "    return int(sys.maxsize * random.random() +  random.random())"
   ]
  },
  {
   "cell_type": "code",
   "execution_count": 39,
   "id": "bc93b57e",
   "metadata": {},
   "outputs": [],
   "source": [
    "def genknuth(m, n):\n",
    "    result = []\n",
    "    for i in range(n):\n",
    "        if bigrand() % (n - i) < m:\n",
    "            result.append(i)\n",
    "            m -= 1\n",
    "    \n",
    "    return result"
   ]
  },
  {
   "cell_type": "code",
   "execution_count": 40,
   "id": "ad61a13b",
   "metadata": {},
   "outputs": [
    {
     "data": {
      "text/plain": [
       "[1, 3]"
      ]
     },
     "execution_count": 40,
     "metadata": {},
     "output_type": "execute_result"
    }
   ],
   "source": [
    "genknuth(2, 5)"
   ]
  },
  {
   "cell_type": "markdown",
   "id": "927d88e8",
   "metadata": {},
   "source": [
    "## 12.3 设计空间"
   ]
  },
  {
   "cell_type": "markdown",
   "id": "26fa0cda",
   "metadata": {},
   "source": [
    "第一种解决方案：在一个初始为空的集合里面插入随机整数，直到个数足够。时间复杂度为$O(m \\log m)$。"
   ]
  },
  {
   "cell_type": "code",
   "execution_count": 49,
   "id": "960e978d",
   "metadata": {},
   "outputs": [],
   "source": [
    "def gensets(m, n):\n",
    "    S = set()\n",
    "    while len(S) < m:\n",
    "        S.add(bigrand() % n)\n",
    "    return list(S)"
   ]
  },
  {
   "cell_type": "code",
   "execution_count": 50,
   "id": "2b0ee957",
   "metadata": {},
   "outputs": [
    {
     "data": {
      "text/plain": [
       "[3, 4]"
      ]
     },
     "execution_count": 50,
     "metadata": {},
     "output_type": "execute_result"
    }
   ],
   "source": [
    "gensets(2, 5)"
   ]
  },
  {
   "cell_type": "markdown",
   "id": "9aa263f7",
   "metadata": {},
   "source": [
    "第二种解决方案：把包含整数$0 \\sim n{-1}$的数组顺序打乱，然后把前$m$个元素排序输出。时间复杂度为$O(n+m \\log m)$。"
   ]
  },
  {
   "cell_type": "code",
   "execution_count": 51,
   "id": "850b05ff",
   "metadata": {},
   "outputs": [],
   "source": [
    "def genshuf(m, n):\n",
    "    x = list(range(n))\n",
    "    for i in range(m):\n",
    "        j = random.randint(i, n - 1)\n",
    "        x[i], x[j] = x[j], x[i]\n",
    "    \n",
    "    return sorted(x[:m])"
   ]
  },
  {
   "cell_type": "code",
   "execution_count": 53,
   "id": "30662ef3",
   "metadata": {},
   "outputs": [
    {
     "data": {
      "text/plain": [
       "[0, 2, 3, 4]"
      ]
     },
     "execution_count": 53,
     "metadata": {},
     "output_type": "execute_result"
    }
   ],
   "source": [
    "genshuf(4, 5)"
   ]
  },
  {
   "cell_type": "markdown",
   "id": "51cbb30a",
   "metadata": {},
   "source": [
    "## 12.4 原理"
   ]
  },
  {
   "cell_type": "markdown",
   "id": "423288e6",
   "metadata": {},
   "source": [
    "- 正确理解所遇到的问题：问题的陈述通常包含了与解决方案有关的想法，但不应排除其他想法。\n",
    "- 提炼出抽象问题：简洁、明确的问题陈述可以帮助我们解决当前遇到的问题，还能有助于把解决方案应用到其他问题中。\n",
    "- 考虑尽可能多的解法：使用伪代码控制流，抽象数据类型表示关键的数据机构。\n",
    "- 实现一种解决方案：列出几种性能比较好的方案，然后从中选择最佳的。"
   ]
  }
 ],
 "metadata": {
  "kernelspec": {
   "display_name": "Python 3 (ipykernel)",
   "language": "python",
   "name": "python3"
  },
  "language_info": {
   "codemirror_mode": {
    "name": "ipython",
    "version": 3
   },
   "file_extension": ".py",
   "mimetype": "text/x-python",
   "name": "python",
   "nbconvert_exporter": "python",
   "pygments_lexer": "ipython3",
   "version": "3.10.5"
  }
 },
 "nbformat": 4,
 "nbformat_minor": 5
}
