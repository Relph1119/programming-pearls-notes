{
 "cells": [
  {
   "cell_type": "markdown",
   "id": "a4b9fb7c",
   "metadata": {
    "collapsed": true
   },
   "source": [
    "# 第4章 编写正确的程序"
   ]
  },
  {
   "cell_type": "markdown",
   "id": "7c659cb1",
   "metadata": {},
   "source": [
    "## 4.1 二分搜索的挑战"
   ]
  },
  {
   "cell_type": "markdown",
   "id": "fe5bd9f1",
   "metadata": {},
   "source": [
    "**问题描述：**\n",
    "\n",
    "在确定排序后的数组$x[0..n-1]$中是否包含目标元素$t$。已知$n \\geqslant 0$且$x[0] \\leqslant x[1] \\leqslant x[2] \\leqslant \\cdots \\leqslant x[n-1]$，当$n=0$时，数组为空，$t$与$x$中元素的数据类型相同。"
   ]
  },
  {
   "cell_type": "markdown",
   "id": "f6abf13f",
   "metadata": {},
   "source": [
    "> 虽然第一篇二分搜索的论文在1946年就发表了，但是第一个没有错误的二分搜索程序却直到1962年才出现。"
   ]
  },
  {
   "cell_type": "markdown",
   "id": "c8c906ae",
   "metadata": {},
   "source": [
    "## 4.2 编写程序"
   ]
  },
  {
   "cell_type": "code",
   "execution_count": 10,
   "id": "0a89d942",
   "metadata": {},
   "outputs": [],
   "source": [
    "def binary_search(x, n, t):\n",
    "    l = 0\n",
    "    u = n - 1\n",
    "    while l < u: # 循环不变式\n",
    "        if l > u:\n",
    "            p = -1\n",
    "            break\n",
    "        m = (l + u) // 2\n",
    "        if x[m] < t:\n",
    "            l = m + 1\n",
    "        elif x[m] == t:\n",
    "            p = m\n",
    "            break\n",
    "        else:\n",
    "            u = m - 1\n",
    "    return p"
   ]
  },
  {
   "cell_type": "code",
   "execution_count": 11,
   "id": "038811c2",
   "metadata": {},
   "outputs": [],
   "source": [
    "x = [1, 3, 4, 5, 7, 12, 16, 17, 29, 35, 46, 52]"
   ]
  },
  {
   "cell_type": "code",
   "execution_count": 13,
   "id": "b5e5155d",
   "metadata": {},
   "outputs": [
    {
     "data": {
      "text/plain": [
       "12"
      ]
     },
     "execution_count": 13,
     "metadata": {},
     "output_type": "execute_result"
    }
   ],
   "source": [
    "p = binary_search(x, len(x), 12)\n",
    "x[p]"
   ]
  },
  {
   "cell_type": "markdown",
   "id": "c73eed97",
   "metadata": {},
   "source": [
    "## 4.3 理解程序"
   ]
  },
  {
   "cell_type": "markdown",
   "id": "1c33b950",
   "metadata": {},
   "source": [
    "- 初始化：循环初次执行时候，不变式为真。\n",
    "- 保持：如果在某次迭代开始的时候以及循环体执行的时候，不变式都为真，那么，循环体执行完毕的时候，不变式依然为真。\n",
    "- 终止：循环能够终止，并且可以得到期望的结果。"
   ]
  },
  {
   "cell_type": "markdown",
   "id": "8ec18139",
   "metadata": {},
   "source": [
    "## 4.4 原理"
   ]
  },
  {
   "cell_type": "markdown",
   "id": "8a0ac1ee",
   "metadata": {},
   "source": [
    "- 断言：输入、程序变量和输出之间的关系勾勒出了程序的“状态”。\n",
    "- 顺序控制结构：通过在语句之间添加断言，并分别分析程序执行的每一步来理解。\n",
    "- 选择控制结构：包括不同形式的`if`和`case`语句。\n",
    "- 迭代控制结构：证明循环的正确性的3个性质是初始化、保持、终止。\n",
    "- 函数：使用两个断言，前置条件（在调用该函数之前就应该成立的状态）和后置条件（由函数在终止执行时保证）。"
   ]
  },
  {
   "cell_type": "markdown",
   "id": "b9069b0d",
   "metadata": {},
   "source": [
    "> 契约：如果在前置条件满足的情况下调用函数，函数的执行将确立后置条件，一旦证明函数体具有该性质，在以后的应用中，可以直接使用前置条件和后置条件之间的关系，而不再需要考虑其实现，该方法在软件开发中通常称为“契约编程”。"
   ]
  }
 ],
 "metadata": {
  "kernelspec": {
   "display_name": "Python 3 (ipykernel)",
   "language": "python",
   "name": "python3"
  },
  "language_info": {
   "codemirror_mode": {
    "name": "ipython",
    "version": 3
   },
   "file_extension": ".py",
   "mimetype": "text/x-python",
   "name": "python",
   "nbconvert_exporter": "python",
   "pygments_lexer": "ipython3",
   "version": "3.10.5"
  }
 },
 "nbformat": 4,
 "nbformat_minor": 5
}
