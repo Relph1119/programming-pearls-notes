{
 "cells": [
  {
   "cell_type": "markdown",
   "id": "99fb450f",
   "metadata": {
    "collapsed": true
   },
   "source": [
    "# 第5章 编程小事"
   ]
  },
  {
   "cell_type": "markdown",
   "id": "15d9f8d9",
   "metadata": {},
   "source": [
    "## 5.1 从伪代码到程序"
   ]
  },
  {
   "cell_type": "code",
   "execution_count": 2,
   "id": "2828bfee",
   "metadata": {},
   "outputs": [],
   "source": [
    "def binary_search(x, t):\n",
    "    l = 0\n",
    "    u = len(x) - 1\n",
    "    while l <= u:\n",
    "        m = (l + u) // 2\n",
    "        if x[m] < t:\n",
    "            l = m + 1\n",
    "        elif x[m] == t:\n",
    "            return m\n",
    "        else:\n",
    "            u = m - 1\n",
    "    return -1"
   ]
  },
  {
   "cell_type": "markdown",
   "id": "c61afbd2",
   "metadata": {},
   "source": [
    "## 5.2 测试工具"
   ]
  },
  {
   "cell_type": "code",
   "execution_count": 3,
   "id": "992aabd9",
   "metadata": {},
   "outputs": [],
   "source": [
    "def test_binary_search(n, t):\n",
    "    x = [10*i for i in range(n)]\n",
    "    print(binary_search(x, t))"
   ]
  },
  {
   "cell_type": "code",
   "execution_count": 4,
   "id": "0aea5472",
   "metadata": {},
   "outputs": [
    {
     "name": "stdout",
     "output_type": "stream",
     "text": [
      "0\n"
     ]
    }
   ],
   "source": [
    "test_binary_search(2, 0)"
   ]
  },
  {
   "cell_type": "code",
   "execution_count": 5,
   "id": "069b414a",
   "metadata": {},
   "outputs": [
    {
     "name": "stdout",
     "output_type": "stream",
     "text": [
      "1\n"
     ]
    }
   ],
   "source": [
    "test_binary_search(2, 10)"
   ]
  },
  {
   "cell_type": "code",
   "execution_count": 6,
   "id": "648495e4",
   "metadata": {},
   "outputs": [
    {
     "name": "stdout",
     "output_type": "stream",
     "text": [
      "-1\n"
     ]
    }
   ],
   "source": [
    "test_binary_search(2, -5)"
   ]
  },
  {
   "cell_type": "code",
   "execution_count": 7,
   "id": "d94f4317",
   "metadata": {},
   "outputs": [
    {
     "name": "stdout",
     "output_type": "stream",
     "text": [
      "-1\n"
     ]
    }
   ],
   "source": [
    "test_binary_search(2, 5)"
   ]
  },
  {
   "cell_type": "code",
   "execution_count": 8,
   "id": "68d3ebc3",
   "metadata": {},
   "outputs": [
    {
     "name": "stdout",
     "output_type": "stream",
     "text": [
      "-1\n"
     ]
    }
   ],
   "source": [
    "test_binary_search(2, 15)"
   ]
  },
  {
   "cell_type": "markdown",
   "id": "2809e7c4",
   "metadata": {},
   "source": [
    "## 5.3 自动测试和计时"
   ]
  },
  {
   "cell_type": "markdown",
   "id": "4136a39d",
   "metadata": {},
   "source": [
    "建立脚手架，使用机器对程序进行自动测试，测试函数的主循环运行时，$n$从最小的可能值变化到最大的合理值。"
   ]
  },
  {
   "cell_type": "markdown",
   "id": "a5b89bb7",
   "metadata": {},
   "source": [
    "计时脚手架："
   ]
  },
  {
   "cell_type": "code",
   "execution_count": 35,
   "id": "9fe86205",
   "metadata": {},
   "outputs": [],
   "source": [
    "import time\n",
    "\n",
    "def test_time(algnum, n, numtests):\n",
    "    x = [i for i in range(n)]\n",
    "    start_time = time.time()\n",
    "    \n",
    "    for testnum in range(numtests):\n",
    "        for i in range(n):\n",
    "            match(algnum):\n",
    "                case 1: \n",
    "                    assert(binary_search(x, i) == i)\n",
    "    clicks = (time.time() - start_time) * 1000\n",
    "    print(algnum, n, numtests, int(clicks), \"{:.1f}\".format(int(clicks) * 1e6 / ( n * numtests)))"
   ]
  },
  {
   "cell_type": "code",
   "execution_count": 36,
   "id": "9393e0c0",
   "metadata": {},
   "outputs": [
    {
     "name": "stdout",
     "output_type": "stream",
     "text": [
      "1 1000 10000 8006 800.6\n"
     ]
    }
   ],
   "source": [
    "test_time(1, 1000, 10000)"
   ]
  },
  {
   "cell_type": "code",
   "execution_count": 37,
   "id": "34916b85",
   "metadata": {},
   "outputs": [
    {
     "name": "stdout",
     "output_type": "stream",
     "text": [
      "1 10000 1000 11285 1128.5\n"
     ]
    }
   ],
   "source": [
    "test_time(1, 10000, 1000)"
   ]
  },
  {
   "cell_type": "code",
   "execution_count": 38,
   "id": "86a75d83",
   "metadata": {},
   "outputs": [
    {
     "name": "stdout",
     "output_type": "stream",
     "text": [
      "1 100000 100 13807 1380.7\n"
     ]
    }
   ],
   "source": [
    "test_time(1, 100000, 100)"
   ]
  },
  {
   "cell_type": "code",
   "execution_count": 39,
   "id": "5bb4c37b",
   "metadata": {},
   "outputs": [
    {
     "name": "stdout",
     "output_type": "stream",
     "text": [
      "1 1000000 10 16580 1658.0\n"
     ]
    }
   ],
   "source": [
    "test_time(1, 1000000, 10)"
   ]
  },
  {
   "cell_type": "markdown",
   "id": "bcad32a0",
   "metadata": {},
   "source": [
    "## 5.4 原理"
   ]
  },
  {
   "cell_type": "markdown",
   "id": "547be87f",
   "metadata": {},
   "source": [
    "- 脚手架：最好的脚手架通常是最容易构建的脚手架。\n",
    "- 编码：对于比较难写的函数，使用方便的高级伪代码来构建程序框架。\n",
    "- 测试：在脚手架中对组件进行测试要比在大系统中更容易、更彻底。\n",
    "- 调试：对隔离在其脚手架中的程序进行调试是困难的，若将其嵌入真实运行环境中，调试工作回更困难。\n",
    "- 计时：由于运行时间非常重要，才引入了更加复杂的二分搜索。"
   ]
  },
  {
   "cell_type": "markdown",
   "id": "81adaaaf",
   "metadata": {},
   "source": [
    "## 5.5 调试（边栏）"
   ]
  },
  {
   "cell_type": "markdown",
   "id": "dcca95a2",
   "metadata": {},
   "source": [
    "- 案例一：IBM的Yorktown Heights研究中心，一位程序员刚刚安装了一台新的工作站，当他坐着时一切正常，当他站起来时，就不能登录系统了，结果是两个键的键帽被交换了位置，当程序员坐着时，他采用盲打的方式进行登录，问题没有暴露出来，当他站起来时，就不得不看着键盘输入，于是出现了问题。\n",
    "- 案例二：芝加哥的一个银行系统已经正确运行了好几个月，但是第一次用于国际数据时就出现了非正常退出。当用户键入厄瓜多尔的首都基多（Quito）时，程序将其解释为退出请求。"
   ]
  }
 ],
 "metadata": {
  "kernelspec": {
   "display_name": "Python 3 (ipykernel)",
   "language": "python",
   "name": "python3"
  },
  "language_info": {
   "codemirror_mode": {
    "name": "ipython",
    "version": 3
   },
   "file_extension": ".py",
   "mimetype": "text/x-python",
   "name": "python",
   "nbconvert_exporter": "python",
   "pygments_lexer": "ipython3",
   "version": "3.10.5"
  }
 },
 "nbformat": 4,
 "nbformat_minor": 5
}
