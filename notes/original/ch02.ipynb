{
 "cells": [
  {
   "cell_type": "markdown",
   "id": "e9ff7e54",
   "metadata": {
    "collapsed": true
   },
   "source": [
    "# 第2章 啊哈！算法"
   ]
  },
  {
   "cell_type": "markdown",
   "id": "60ee0fc4",
   "metadata": {},
   "source": [
    "## 2.1 三个问题"
   ]
  },
  {
   "cell_type": "markdown",
   "id": "8baf7e7f",
   "metadata": {},
   "source": [
    "问题A：给定一个最多包含40亿个随机排列的32位整数的顺序文件，找出一个不在文件中的32位整数。\n",
    "\n",
    "问题B：将一个$n$元一维向量向左旋转$i$个位置。（移位操作）\n",
    "\n",
    "问题C：给定一个英语字典，找出其中的所有变位词集合。"
   ]
  },
  {
   "cell_type": "markdown",
   "id": "d2d39c5b",
   "metadata": {},
   "source": [
    "## 2.2 【问题A分析】无处不在的二分搜索"
   ]
  },
  {
   "cell_type": "markdown",
   "id": "b03ebbb4",
   "metadata": {},
   "source": [
    "- 文件包含最多40亿个随机排列的32位整数，如果有足够内存，可以使用位图技术。\n",
    "- 使用二分搜索技术，需要定义一个范围、在该范围内表示元素的方式以及用来确定哪一半范围存在缺失整数的探测方法。"
   ]
  },
  {
   "cell_type": "markdown",
   "id": "88d5c820",
   "metadata": {},
   "source": [
    "## 2.3 【问题B分析】基本操作的威力"
   ]
  },
  {
   "cell_type": "markdown",
   "id": "eb764754",
   "metadata": {},
   "source": [
    "问题描述：问题B仅使用几十个字节的额外空间将一个$n$元向量$x$在正比于$n$的时间内向左旋转$i$个位置。"
   ]
  },
  {
   "cell_type": "markdown",
   "id": "c403e070",
   "metadata": {},
   "source": [
    "解决方法：\n",
    "- 方法1：从0到$i$，"
   ]
  }
 ],
 "metadata": {
  "kernelspec": {
   "display_name": "Python 3 (ipykernel)",
   "language": "python",
   "name": "python3"
  },
  "language_info": {
   "codemirror_mode": {
    "name": "ipython",
    "version": 3
   },
   "file_extension": ".py",
   "mimetype": "text/x-python",
   "name": "python",
   "nbconvert_exporter": "python",
   "pygments_lexer": "ipython3",
   "version": "3.10.5"
  }
 },
 "nbformat": 4,
 "nbformat_minor": 5
}
