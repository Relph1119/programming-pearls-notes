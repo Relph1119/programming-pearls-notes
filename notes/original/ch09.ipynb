{
 "cells": [
  {
   "cell_type": "markdown",
   "id": "a7ac38df",
   "metadata": {
    "collapsed": true
   },
   "source": [
    "# 第9章 代码调优"
   ]
  },
  {
   "cell_type": "markdown",
   "id": "0311a212",
   "metadata": {},
   "source": [
    "## 9.1 典型的故事"
   ]
  },
  {
   "cell_type": "markdown",
   "id": "32c1836a",
   "metadata": {},
   "source": [
    "案例背景：本书作者和Chris Van Wyk在讨论代码调优的问题，改进了C程序，将一个3000行的图形程序的运行时间减少了一半。"
   ]
  },
  {
   "cell_type": "markdown",
   "id": "71f3947a",
   "metadata": {},
   "source": [
    "分析：\n",
    "1. 监视程序的性能，确定每个函数需要花费的时间。几乎70%的运行时间都用在了内存分配函数malloc上。\n",
    "2. 研究内存分配程序：插入计数代码，发现常见记录类型的空间分配次数是次常见记录类型的30倍。"
   ]
  },
  {
   "cell_type": "markdown",
   "id": "7d6315a0",
   "metadata": {},
   "source": [
    "优化：使用高速缓存原理，将最常见类型的空闲记录缓存在一个链表中，通过对链表的快速访问来处理常见的请求，总运行时间缩短为原先的45%。"
   ]
  },
  {
   "cell_type": "markdown",
   "id": "773203f1",
   "metadata": {},
   "source": [
    "## 9.2 急救方案锦集"
   ]
  },
  {
   "cell_type": "markdown",
   "id": "c21f9dfc",
   "metadata": {},
   "source": [
    "**问题1：** 整数取模\n",
    "\n",
    "```c\n",
    "k = (j + rotdist) % n\n",
    "```\n",
    "\n",
    "C语言的模运算符%开销较大，可以使用算术运算代替模运算。\n",
    "\n",
    "```c\n",
    "k = j + rotdist;\n",
    "if (k >= n):\n",
    "    k -= n;\n",
    "```"
   ]
  },
  {
   "cell_type": "markdown",
   "id": "6ff29311",
   "metadata": {},
   "source": [
    "**问题2：** 函数、宏和内联代码\n",
    "\n",
    "在C语言中，对某一函数进行内联编译，兼得了函数得简洁语义和宏得低廉开销。"
   ]
  },
  {
   "cell_type": "markdown",
   "id": "f5c33897",
   "metadata": {},
   "source": [
    "**问题3：** 顺序搜索\n",
    "\n",
    "对于现代计算机来说，将循环展开有助于避免管道阻塞、减少分支、增加指令级的并行性。"
   ]
  },
  {
   "cell_type": "markdown",
   "id": "79269cf7",
   "metadata": {},
   "source": [
    "**问题4：** 计算球面距离\n",
    "\n",
    "原始方案：将球面上5000个点组成的集合S表示成包含经度和纬度值的数组。对于序列中的每个点，计算它到S中每个点的距离，来确定S中和它最接近的点。\n",
    "\n",
    "改进方案：使用$x$、$y$和$z$坐标表示球面上点的位置，使用一个数组，不仅包含每个点的经纬度，还包含了该点的三个笛卡儿坐标。"
   ]
  },
  {
   "cell_type": "markdown",
   "id": "8b8114e1",
   "metadata": {},
   "source": [
    "## 9.3 二分搜索"
   ]
  },
  {
   "cell_type": "code",
   "execution_count": 36,
   "id": "a277a893",
   "metadata": {},
   "outputs": [],
   "source": [
    "import random\n",
    "\n",
    "random.seed(2023)\n",
    "\n",
    "x = [random.randint(0, 10000) for _ in range(1000)]\n",
    "x.sort()"
   ]
  },
  {
   "cell_type": "code",
   "execution_count": 37,
   "id": "48ccf205",
   "metadata": {},
   "outputs": [
    {
     "data": {
      "text/plain": [
       "[22, 38, 41, 42, 63]"
      ]
     },
     "execution_count": 37,
     "metadata": {},
     "output_type": "execute_result"
    }
   ],
   "source": [
    "x[:5]"
   ]
  },
  {
   "cell_type": "markdown",
   "id": "879f8442",
   "metadata": {},
   "source": [
    "**原始版本：**"
   ]
  },
  {
   "cell_type": "code",
   "execution_count": 38,
   "id": "14135692",
   "metadata": {},
   "outputs": [],
   "source": [
    "def binarysearch(x, t):\n",
    "    l = 0\n",
    "    u = len(x) - 1\n",
    "    while True:\n",
    "        if l > u:\n",
    "            p = -1\n",
    "            break\n",
    "        m = (l + u) // 2\n",
    "        if x[m] < t:\n",
    "            l = m + 1\n",
    "        elif x[m] == t:\n",
    "            p = m\n",
    "            break\n",
    "        else:\n",
    "            u = m - 1\n",
    "    return p"
   ]
  },
  {
   "cell_type": "code",
   "execution_count": 39,
   "id": "b198873d",
   "metadata": {},
   "outputs": [
    {
     "data": {
      "text/plain": [
       "(4, 63)"
      ]
     },
     "execution_count": 39,
     "metadata": {},
     "output_type": "execute_result"
    }
   ],
   "source": [
    "p = binarysearch(x, 63)\n",
    "p, x[p]"
   ]
  },
  {
   "cell_type": "markdown",
   "id": "4c2922a6",
   "metadata": {},
   "source": [
    "**第1个版本：**\n",
    "\n",
    "改进方案：将不变式关系变为$x[l] < t \\leqslant x[u]$和$l < u$。"
   ]
  },
  {
   "cell_type": "code",
   "execution_count": 40,
   "id": "d2713370",
   "metadata": {},
   "outputs": [],
   "source": [
    "def binarysearch1(x, t):\n",
    "    n = len(x)\n",
    "    l = -1\n",
    "    u = n\n",
    "    while l + 1 != u:\n",
    "        m = (l + u) // 2\n",
    "        if x[m] < t:\n",
    "            l = m\n",
    "        else:\n",
    "            u = m\n",
    "    p = u\n",
    "    if p >= n or x[p] != t:\n",
    "        p = -1\n",
    "    return p"
   ]
  },
  {
   "cell_type": "code",
   "execution_count": 41,
   "id": "1ee92fa5",
   "metadata": {},
   "outputs": [
    {
     "data": {
      "text/plain": [
       "(4, 63)"
      ]
     },
     "execution_count": 41,
     "metadata": {},
     "output_type": "execute_result"
    }
   ],
   "source": [
    "p = binarysearch1(x, 63)\n",
    "p, x[p]"
   ]
  },
  {
   "cell_type": "markdown",
   "id": "3ed3b178",
   "metadata": {},
   "source": [
    "**第2个版本：**\n",
    "\n",
    "改进方案：利用$n=1000$这个条件，使用下限值1以及增量$i$表示，使得$l + i = u$"
   ]
  },
  {
   "cell_type": "code",
   "execution_count": 42,
   "id": "8841bf98",
   "metadata": {},
   "outputs": [],
   "source": [
    "def binarysearch2(x, t):\n",
    "    i = 512\n",
    "    l = -1\n",
    "    if x[511] < t:\n",
    "        l = 1000 - 512\n",
    "    while i != 1:\n",
    "        nexti = i // 2\n",
    "        if x[l + nexti] < t:\n",
    "            l = l + nexti\n",
    "            i = nexti\n",
    "        else:\n",
    "            i = nexti\n",
    "    \n",
    "    p = l + 1\n",
    "    if p > 1000 or x[p] != t:\n",
    "        p = -1\n",
    "    return p"
   ]
  },
  {
   "cell_type": "code",
   "execution_count": 43,
   "id": "9928c6c2",
   "metadata": {},
   "outputs": [
    {
     "data": {
      "text/plain": [
       "(4, 63)"
      ]
     },
     "execution_count": 43,
     "metadata": {},
     "output_type": "execute_result"
    }
   ],
   "source": [
    "p = binarysearch2(x, 63)\n",
    "p, x[p]"
   ]
  },
  {
   "cell_type": "markdown",
   "id": "934b0107",
   "metadata": {},
   "source": [
    "**第3个版本：**\n",
    "\n",
    "改进方案：加入智能编译器可能会执行的某些优化，简化第二个if语句，删除变量`nexti`，并从循环内的if语句中删除了对`nexti`的赋值。"
   ]
  },
  {
   "cell_type": "code",
   "execution_count": 44,
   "id": "9ea97a86",
   "metadata": {},
   "outputs": [],
   "source": [
    "def binarysearch3(x, t):\n",
    "    i = 512\n",
    "    l = -1\n",
    "    if x[511] < t:\n",
    "        l = 1000 - 512\n",
    "    while i != 1:\n",
    "        i = i // 2  \n",
    "        if x[l + i] < t:\n",
    "            l = l + i\n",
    "            \n",
    "    p = l + 1\n",
    "    if p > 1000 or x[p] != t:\n",
    "        p = -1\n",
    "    return p"
   ]
  },
  {
   "cell_type": "code",
   "execution_count": 45,
   "id": "1d0cf416",
   "metadata": {},
   "outputs": [
    {
     "data": {
      "text/plain": [
       "(4, 63)"
      ]
     },
     "execution_count": 45,
     "metadata": {},
     "output_type": "execute_result"
    }
   ],
   "source": [
    "p = binarysearch3(x, 63)\n",
    "p, x[p]"
   ]
  },
  {
   "cell_type": "markdown",
   "id": "9c865e24",
   "metadata": {},
   "source": [
    "**第4个版本：**\n",
    "\n",
    "改进方案：展开了整个循环，消除了循环控制和i被2除的开销。"
   ]
  },
  {
   "cell_type": "code",
   "execution_count": 46,
   "id": "f62339aa",
   "metadata": {},
   "outputs": [],
   "source": [
    "def binarysearch4(x, t):\n",
    "    l = -1\n",
    "    if x[511] < t:\n",
    "        l = 1000 - 512\n",
    "    if x[l + 256] < t:\n",
    "        l += 256\n",
    "    if x[l + 128] < t:\n",
    "        l += 128\n",
    "    if x[l + 64] < t:\n",
    "        l += 64\n",
    "    if x[l + 32] < t:\n",
    "        l += 32\n",
    "    if x[l + 16] < t:\n",
    "        l += 16\n",
    "    if x[l + 8] < t:\n",
    "        l += 8\n",
    "    if x[l + 4] < t:\n",
    "        l += 4\n",
    "    if x[l + 2] < t:\n",
    "        l += 2\n",
    "    if x[l + 1] < t:\n",
    "        l += 1\n",
    "    p = l + 1\n",
    "    if p > 1000 or x[p] != t:\n",
    "        p = -1\n",
    "    return p"
   ]
  },
  {
   "cell_type": "code",
   "execution_count": 47,
   "id": "c6b289a7",
   "metadata": {},
   "outputs": [
    {
     "data": {
      "text/plain": [
       "(4, 63)"
      ]
     },
     "execution_count": 47,
     "metadata": {},
     "output_type": "execute_result"
    }
   ],
   "source": [
    "p = binarysearch4(x, 63)\n",
    "p, x[p]"
   ]
  },
  {
   "cell_type": "code",
   "execution_count": 48,
   "id": "81368d31",
   "metadata": {},
   "outputs": [],
   "source": [
    "import time\n",
    "\n",
    "def test_time(algnum, n, numtests):\n",
    "    x = [i for i in range(n)]\n",
    "    start_time = time.time()\n",
    "    \n",
    "    for testnum in range(numtests):\n",
    "        for i in range(n):\n",
    "            match(algnum):\n",
    "                case 1: \n",
    "                    assert(binarysearch(x, i) == i)\n",
    "                case 2:\n",
    "                    assert(binarysearch4(x, i) == i)\n",
    "    clicks = (time.time() - start_time) * 1000\n",
    "    print(algnum, n, numtests, int(clicks), \"{:.1f}\".format(int(clicks) * 1e6 / ( n * numtests)))"
   ]
  },
  {
   "cell_type": "code",
   "execution_count": 49,
   "id": "5dcb18fa",
   "metadata": {},
   "outputs": [
    {
     "name": "stdout",
     "output_type": "stream",
     "text": [
      "1 1000 10000 8762 876.2\n"
     ]
    }
   ],
   "source": [
    "test_time(1, 1000, 10000)"
   ]
  },
  {
   "cell_type": "code",
   "execution_count": 50,
   "id": "934f8a90",
   "metadata": {},
   "outputs": [
    {
     "name": "stdout",
     "output_type": "stream",
     "text": [
      "2 1000 10000 5444 544.4\n"
     ]
    }
   ],
   "source": [
    "test_time(2, 1000, 10000)"
   ]
  },
  {
   "cell_type": "markdown",
   "id": "b2a7e7d3",
   "metadata": {},
   "source": [
    "原始版本的运行时间为876.2纳秒，第4版循环展开后的程序运行时间为544.4纳秒，加速了37%。"
   ]
  },
  {
   "cell_type": "markdown",
   "id": "55f597ef",
   "metadata": {},
   "source": [
    "## 9.4 原理"
   ]
  },
  {
   "cell_type": "markdown",
   "id": "90aee4e0",
   "metadata": {},
   "source": [
    "- 效率的角色：不成熟的优化是大量编程灾害的根源，会危机程序的正确性、功能性以及可维护性。\n",
    "- 度量工具：当效率很重要时，第一步就是对系统进行性能监视，多数的时间都消耗在少量的热点代码上。\n",
    "- 设计层面：只有在确信没有更好的解决方案时，才考虑进行代码调优。\n",
    "- 双刃剑：使用if语句替换模运算有时可以使速度加倍，有时对运行时间没什么影响。"
   ]
  }
 ],
 "metadata": {
  "kernelspec": {
   "display_name": "Python 3 (ipykernel)",
   "language": "python",
   "name": "python3"
  },
  "language_info": {
   "codemirror_mode": {
    "name": "ipython",
    "version": 3
   },
   "file_extension": ".py",
   "mimetype": "text/x-python",
   "name": "python",
   "nbconvert_exporter": "python",
   "pygments_lexer": "ipython3",
   "version": "3.10.5"
  }
 },
 "nbformat": 4,
 "nbformat_minor": 5
}
