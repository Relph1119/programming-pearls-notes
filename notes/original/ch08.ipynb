{
 "cells": [
  {
   "cell_type": "markdown",
   "id": "96af6cf8",
   "metadata": {
    "collapsed": true
   },
   "source": [
    "# 第8章 算法设计艺术"
   ]
  },
  {
   "cell_type": "markdown",
   "id": "76c6e4d2",
   "metadata": {},
   "source": [
    "## 8.1 问题及简单算法"
   ]
  },
  {
   "cell_type": "markdown",
   "id": "5ecfd05e",
   "metadata": {},
   "source": [
    "**问题：**\n",
    "\n",
    "输入是具有$n$个浮点数的向量$x$，输出是输入向量的任何连续子向量中的最大和。如果输入向量包含下面10个元素\n",
    "\n",
    "> 31 -41 59 26 -53 58 97 -93 -23 84\n",
    "\n",
    "该程序的输出是$x[2..6]$的总和，即187。"
   ]
  },
  {
   "cell_type": "markdown",
   "id": "9c133252",
   "metadata": {},
   "source": [
    "**算法1：** 算法的时间复杂度为$O(n^3)$。"
   ]
  },
  {
   "cell_type": "code",
   "execution_count": 7,
   "id": "af8c226c",
   "metadata": {},
   "outputs": [],
   "source": [
    "def maxsum1(x):\n",
    "    n = len(x)\n",
    "    maxsofar = 0\n",
    "    for i in range(n):\n",
    "        for j in range(i, n):\n",
    "            sum_ = 0\n",
    "            for k in range(i, j + 1):\n",
    "                sum_ += x[k]\n",
    "            maxsofar = max(maxsofar, sum_)\n",
    "    return maxsofar"
   ]
  },
  {
   "cell_type": "code",
   "execution_count": 8,
   "id": "90a19746",
   "metadata": {},
   "outputs": [],
   "source": [
    "x = [31, -41, 59, 26, -53, 58, 97, -93, -23, 84]"
   ]
  },
  {
   "cell_type": "code",
   "execution_count": 9,
   "id": "55056145",
   "metadata": {},
   "outputs": [
    {
     "data": {
      "text/plain": [
       "187"
      ]
     },
     "execution_count": 9,
     "metadata": {},
     "output_type": "execute_result"
    }
   ],
   "source": [
    "maxsum1(x)"
   ]
  },
  {
   "cell_type": "markdown",
   "id": "f4abd30b",
   "metadata": {},
   "source": [
    "## 8.2 两个平方算法"
   ]
  },
  {
   "cell_type": "markdown",
   "id": "b1d6e4a0",
   "metadata": {},
   "source": [
    "**算法2：** \n",
    "- 算法的时间复杂度为$O(n^2)$。\n",
    "- 由于$x[i..j]$的总和与前面已计算出的总和密切相关，可以优化一个for循环"
   ]
  },
  {
   "cell_type": "code",
   "execution_count": 10,
   "id": "f1c0e333",
   "metadata": {},
   "outputs": [],
   "source": [
    "def maxsum2(x):\n",
    "    n = len(x)\n",
    "    maxsofar = 0\n",
    "    for i in range(n):\n",
    "        sum_ = 0\n",
    "        for j in range(i, n):\n",
    "            sum_ += x[j]\n",
    "            maxsofar = max(maxsofar, sum_)\n",
    "    return maxsofar"
   ]
  },
  {
   "cell_type": "code",
   "execution_count": 11,
   "id": "3356c1ad",
   "metadata": {},
   "outputs": [
    {
     "data": {
      "text/plain": [
       "187"
      ]
     },
     "execution_count": 11,
     "metadata": {},
     "output_type": "execute_result"
    }
   ],
   "source": [
    "maxsum2(x)"
   ]
  },
  {
   "cell_type": "markdown",
   "id": "b260fec4",
   "metadata": {},
   "source": [
    "**算法2b：**\n",
    "- 算法的时间复杂度为$O(n^2)$。\n",
    "- 通过访问在外循环执行之间就已构建的数据结构的方式在内循环中计算总和。"
   ]
  },
  {
   "cell_type": "code",
   "execution_count": 17,
   "id": "665b1d07",
   "metadata": {},
   "outputs": [],
   "source": [
    "def maxsum2b(x):\n",
    "    n = len(x)\n",
    "    cumarr = [0] * n\n",
    "    cumarr[0] = x[0]\n",
    "    for i in range(1, n):\n",
    "        cumarr[i] = cumarr[i - 1] + x[i]\n",
    "    maxsofar = cumarr[0]\n",
    "    for i in range(1, n):\n",
    "        for j in range(i, n):\n",
    "            sum_ = cumarr[j] - cumarr[i - 1]\n",
    "            maxsofar = max(maxsofar, sum_)\n",
    "    return maxsofar"
   ]
  },
  {
   "cell_type": "code",
   "execution_count": 18,
   "id": "144b4335",
   "metadata": {},
   "outputs": [
    {
     "data": {
      "text/plain": [
       "187"
      ]
     },
     "execution_count": 18,
     "metadata": {},
     "output_type": "execute_result"
    }
   ],
   "source": [
    "maxsum2b(x)"
   ]
  },
  {
   "cell_type": "markdown",
   "id": "df7c352d",
   "metadata": {},
   "source": [
    "## 8.3 分治算法"
   ]
  },
  {
   "cell_type": "markdown",
   "id": "8bb0e8d7",
   "metadata": {},
   "source": [
    "分治原理：要解决规模为$n$的问题，可递归地解决两个规模近似为$n/2$的子问题，然后对它们的答案进行合并以得到整个问题的答案。"
   ]
  },
  {
   "cell_type": "markdown",
   "id": "cfdcbbf0",
   "metadata": {},
   "source": [
    "**算法3：**\n",
    "\n",
    "- 算法的时间复杂度是$O(n \\log n)$。"
   ]
  },
  {
   "cell_type": "code",
   "execution_count": 28,
   "id": "7b8d83ca",
   "metadata": {},
   "outputs": [],
   "source": [
    "def maxsum3(x, l, u):\n",
    "    if l > u:\n",
    "        return 0\n",
    "    if l == u:\n",
    "        return max(0, x[l])\n",
    "    m = (l + u) // 2\n",
    "    lmax = sum_ = 0\n",
    "    for i in range(m, l - 1, -1):\n",
    "        sum_ += x[i]\n",
    "        lmax = max(lmax, sum_)\n",
    "    rmax = sum_ = 0\n",
    "    for i in range(m + 1, u + 1):\n",
    "        sum_ += x[i]\n",
    "        rmax = max(rmax, sum_)\n",
    "    return max(lmax + rmax, maxsum3(x, l, m), maxsum3(x, m+1, u))"
   ]
  },
  {
   "cell_type": "code",
   "execution_count": 29,
   "id": "539c60c1",
   "metadata": {},
   "outputs": [
    {
     "data": {
      "text/plain": [
       "187"
      ]
     },
     "execution_count": 29,
     "metadata": {},
     "output_type": "execute_result"
    }
   ],
   "source": [
    "maxsum3(x, 0, len(x) - 1)"
   ]
  },
  {
   "cell_type": "markdown",
   "id": "a11305bd",
   "metadata": {},
   "source": [
    "## 8.4 扫描算法"
   ]
  },
  {
   "cell_type": "markdown",
   "id": "c668fe06",
   "metadata": {},
   "source": [
    "**算法4：**\n",
    "- 算法的时间复杂度是$O(n)$。\n",
    "- 算法思路：从数组最左端开始扫描，一直到最右端位置，并记下所遇到的总和最大的子向量。"
   ]
  },
  {
   "cell_type": "code",
   "execution_count": 30,
   "id": "fa95d3f5",
   "metadata": {},
   "outputs": [],
   "source": [
    "def maxsum4(x):\n",
    "    maxsofar = 0\n",
    "    maxendinghere = 0\n",
    "    n = len(x)\n",
    "    for i in range(n):\n",
    "        maxendinghere = max(maxendinghere + x[i], 0)\n",
    "        maxsofar = max(maxsofar, maxendinghere)\n",
    "    return maxsofar"
   ]
  },
  {
   "cell_type": "code",
   "execution_count": 31,
   "id": "49dcd50d",
   "metadata": {},
   "outputs": [
    {
     "data": {
      "text/plain": [
       "187"
      ]
     },
     "execution_count": 31,
     "metadata": {},
     "output_type": "execute_result"
    }
   ],
   "source": [
    "maxsum4(x)"
   ]
  },
  {
   "cell_type": "markdown",
   "id": "d0427268",
   "metadata": {},
   "source": [
    "## 8.5 原理"
   ]
  },
  {
   "cell_type": "markdown",
   "id": "890f2196",
   "metadata": {},
   "source": [
    "算法演变的历史：\n",
    "- 最初的问题出现在布朗大学的Ulf Grenander所面对的一个模式匹配问题中，发现立方运行时间的算法1出奇地慢，开发出了算法2。\n",
    "- 1977年，Grenander将问题叙述给Michael Shamos听，Shamos花一个通宵设计出了算法3。\n",
    "- 没过多久，Shamos在卡内基-梅隆大学研讨会上介绍了该问题及其历史，与会的统计学家Jay Kadane在一分钟之内构建了算法4。"
   ]
  },
  {
   "cell_type": "markdown",
   "id": "c8903245",
   "metadata": {},
   "source": [
    "算法设计技术：\n",
    "- 保存状态，避免重复计算：算法2和算法4使用了简单的动态规划形式。\n",
    "- 将信息预处理至数据结构中：算法2b中的`cumarr`结构允许对子向量中的总和进行快速计算。\n",
    "- 分治算法：算法3使用简单的分治算法形式。\n",
    "- 扫描算法：算法4存储已有的答案和一些辅助数据计算新答案。\n",
    "- 累加数组：算法2b使用一个累加表。"
   ]
  }
 ],
 "metadata": {
  "kernelspec": {
   "display_name": "Python 3 (ipykernel)",
   "language": "python",
   "name": "python3"
  },
  "language_info": {
   "codemirror_mode": {
    "name": "ipython",
    "version": 3
   },
   "file_extension": ".py",
   "mimetype": "text/x-python",
   "name": "python",
   "nbconvert_exporter": "python",
   "pygments_lexer": "ipython3",
   "version": "3.10.5"
  }
 },
 "nbformat": 4,
 "nbformat_minor": 5
}
