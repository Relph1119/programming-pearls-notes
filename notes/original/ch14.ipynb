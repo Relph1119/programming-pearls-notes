{
 "cells": [
  {
   "cell_type": "markdown",
   "id": "1d93e607",
   "metadata": {
    "collapsed": true
   },
   "source": [
    "# 第14章 堆"
   ]
  },
  {
   "cell_type": "markdown",
   "id": "f6c9276e",
   "metadata": {},
   "source": [
    "## 14.1 数据结构"
   ]
  },
  {
   "cell_type": "markdown",
   "id": "31ff9ebc",
   "metadata": {},
   "source": [
    "堆的定义：堆是用来表示元素集合的一种数据结构，可分为大顶堆和小顶堆。有以下两个性质：\n",
    "- 顺序：任何结点的值都小于或等于其子结点的值。\n",
    "- 形状：是一个二叉树，最多在两层上具有叶结点，其中最底层的叶结点尽可能地靠左分布。所有结点到根结点的距离都不超过$\\log_2 n$。"
   ]
  },
  {
   "cell_type": "markdown",
   "id": "379ea941",
   "metadata": {},
   "source": [
    "用数学公式表示堆：\n",
    "$$\n",
    "\\forall_{2 \\leqslant i \\leqslant n} x[i/2] \\leqslant x[i]\n",
    "$$"
   ]
  },
  {
   "cell_type": "markdown",
   "id": "6b1905a6",
   "metadata": {},
   "source": [
    "关于具有堆性质的子数组x[l..u]，用下列数学公式表示：\n",
    "$$\n",
    "heap(l, u) = \\forall_{2l \\leqslant i \\leqslant u} x[i/2] \\leqslant x[i]\n",
    "$$"
   ]
  },
  {
   "cell_type": "markdown",
   "id": "1060723d",
   "metadata": {},
   "source": [
    "## 14.2 两个关键函数"
   ]
  },
  {
   "cell_type": "markdown",
   "id": "3dc2a689",
   "metadata": {},
   "source": [
    "向上筛选：通过交换该结点与其父结点来实现的。"
   ]
  },
  {
   "cell_type": "code",
   "execution_count": 1,
   "id": "0fc938bc",
   "metadata": {},
   "outputs": [],
   "source": [
    "def siftup(x, n):\n",
    "    i = n\n",
    "    while True:\n",
    "        if i == 1:\n",
    "            break\n",
    "        p = i // 2\n",
    "        if x[p] <= x[i]:\n",
    "            breka\n",
    "        x[p], x[i] = x[i], x[p]\n",
    "        i = p"
   ]
  },
  {
   "cell_type": "markdown",
   "id": "81d0fd13",
   "metadata": {},
   "source": [
    "向下筛选：将顺序不对的元素和比它小的子结点交换。"
   ]
  },
  {
   "cell_type": "code",
   "execution_count": 2,
   "id": "30ab6b36",
   "metadata": {},
   "outputs": [],
   "source": [
    "def siftdown(x, n):\n",
    "    i = 1\n",
    "    while True:\n",
    "        c = 2*i\n",
    "        if c > n:\n",
    "            break\n",
    "        if c + 1 <= n:\n",
    "            if x[c + 1] < x[c]:\n",
    "                c += 1\n",
    "        if x[i] <= x[c]:\n",
    "            break\n",
    "        x[c], x[i] = x[i], x[c]\n",
    "        i = c"
   ]
  },
  {
   "cell_type": "markdown",
   "id": "e8492f7e",
   "metadata": {},
   "source": [
    "## 14.3 优先级队列"
   ]
  },
  {
   "cell_type": "code",
   "execution_count": 3,
   "id": "3d95b284",
   "metadata": {},
   "outputs": [],
   "source": [
    "class priqueue:\n",
    "    def __init__(self, m):\n",
    "        self.maxsize = m\n",
    "        self.x = [0] * (self.maxsize + 1)\n",
    "        self.n = 0\n",
    "\n",
    "    def insert(self, t):\n",
    "        self.n += 1\n",
    "        self.x[self.n] = t\n",
    "        i = self.n\n",
    "        p = i // 2\n",
    "        while i > 1 and self.x[p] > self.x[i]:\n",
    "            self.x[p], self.x[i] = self.x[i], self.x[p]\n",
    "            i = p\n",
    "            p = i // 2\n",
    "\n",
    "    def extractmin(self):\n",
    "        t = self.x[1]\n",
    "        self.x[1] = self.x[self.n]\n",
    "        self.n -= 1\n",
    "        i = 1\n",
    "        c = 2 * i\n",
    "        while c <= self.n:\n",
    "            if c + 1 <= self.n and self.x[c + 1] < self.x[c]:\n",
    "                c += 1\n",
    "            if self.x[i] <= self.x[c]:\n",
    "                break\n",
    "            self.x[c], self.x[i] = self.x[i], self.x[c]\n",
    "            i = c\n",
    "            c = 2 * i\n",
    "\n",
    "        return t\n",
    "\n",
    "    def __repr__(self):\n",
    "        return self.x[:self.n + 1].__repr__()"
   ]
  },
  {
   "cell_type": "code",
   "execution_count": 4,
   "id": "49ef15ab",
   "metadata": {},
   "outputs": [
    {
     "name": "stdout",
     "output_type": "stream",
     "text": [
      "[0, 2, 5, 4]\n",
      "[0, 4, 5]\n"
     ]
    }
   ],
   "source": [
    "p = priqueue(5)\n",
    "p.insert(5)\n",
    "p.insert(2)\n",
    "p.insert(4)\n",
    "print(p)\n",
    "p.extractmin()\n",
    "print(p)"
   ]
  },
  {
   "cell_type": "markdown",
   "id": "22b4d3b6",
   "metadata": {},
   "source": [
    "不同数据结构在不同操作上的运行时间比较：\n",
    "\n",
    "| 数据结构 | 一次insert | 一次extractmin | 两种操作各$n$次 |\n",
    "| :---: | :---: | :---: | :---: |\n",
    "| 有序序列 | $O(n)$ | $O(1)$ | $O(n^2)$ |\n",
    "| 堆 | $O(\\log n)$ | $O(\\log n)$ | $O(n \\log n)$ |\n",
    "| 无序序列 | $O(1)$ | $O(n)$ | $O(n^2)$ |"
   ]
  },
  {
   "cell_type": "markdown",
   "id": "2f9399fa",
   "metadata": {},
   "source": [
    "## 14.4 原理"
   ]
  },
  {
   "cell_type": "markdown",
   "id": "0df3f6ac",
   "metadata": {},
   "source": [
    "- 高效性：形状性质保证了堆中所有结点和根结点之间相差的层数在$\\log_2 n$之内。由于树是平衡的，所以向上筛选和向下筛选函数的运行效率很高。\n",
    "- 正确性：形状和顺序性质保证了不变式，在操作堆函数时，假设其开始运行时上述性质为真，必须确保运行结束之后，这些性质仍为真。\n",
    "- 抽象性：过程抽象和抽象数据类型。\n",
    "- 过程抽象：使用向上筛选和向下筛选的抽象。\n",
    "- 抽象数据类型：数据类型做什么是由它的方法和方法的规范给出，如何做则是由具体实现决定的。"
   ]
  }
 ],
 "metadata": {
  "kernelspec": {
   "display_name": "Python 3 (ipykernel)",
   "language": "python",
   "name": "python3"
  },
  "language_info": {
   "codemirror_mode": {
    "name": "ipython",
    "version": 3
   },
   "file_extension": ".py",
   "mimetype": "text/x-python",
   "name": "python",
   "nbconvert_exporter": "python",
   "pygments_lexer": "ipython3",
   "version": "3.10.5"
  }
 },
 "nbformat": 4,
 "nbformat_minor": 5
}
