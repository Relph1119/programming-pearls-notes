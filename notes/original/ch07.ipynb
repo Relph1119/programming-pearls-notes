{
 "cells": [
  {
   "cell_type": "markdown",
   "id": "b8927a4a",
   "metadata": {
    "collapsed": true
   },
   "source": [
    "# 第7章 粗略估算"
   ]
  },
  {
   "cell_type": "markdown",
   "id": "6e8018e0",
   "metadata": {},
   "source": [
    "## 7.1 基本技巧"
   ]
  },
  {
   "cell_type": "markdown",
   "id": "765cd9d3",
   "metadata": {},
   "source": [
    "- 72法则：假设以年利率$r$%投资一笔钱$y$年，金融版本的“72法则”指出，如果$r \\times y = 72$，则投资差不多会翻倍。"
   ]
  },
  {
   "cell_type": "markdown",
   "id": "ac69f1b5",
   "metadata": {},
   "source": [
    "- 一年有$3.155 \\times 10^7$秒，可以用Tom Duff的便捷经验法：在误差不超过千分之五的情况下，$\\pi$秒就是一个纳世纪。"
   ]
  },
  {
   "cell_type": "markdown",
   "id": "5d31a099",
   "metadata": {},
   "source": [
    "## 7.2 性能估计"
   ]
  },
  {
   "cell_type": "markdown",
   "id": "52641880",
   "metadata": {},
   "source": [
    "问题：数据结构中的结点存储着一个整数和一个指向另一个结点的指针：\n",
    "```c\n",
    "struct node {\n",
    "    int i;\n",
    "    struct node *p;\n",
    "}\n",
    "```\n",
    "\n",
    "两百万个这样的结点是否可以装入128MB内存的计算机中？"
   ]
  },
  {
   "cell_type": "markdown",
   "id": "565916e2",
   "metadata": {},
   "source": [
    "分析：如果8字节的记录都额外占用了8字节的空间，这些结点预计需要约32MB空间，每个结点需要占40字节的空间，每条记录占用48个字节。两百万条记录需要使用总计96MB的空间。"
   ]
  },
  {
   "cell_type": "markdown",
   "id": "4f4f0d59",
   "metadata": {},
   "source": [
    "## 7.3 Little定律"
   ]
  },
  {
   "cell_type": "markdown",
   "id": "48cd73df",
   "metadata": {},
   "source": [
    "Little定律：队列中物体的平均数量为进入速率与平均停留时间的乘积。"
   ]
  },
  {
   "cell_type": "markdown",
   "id": "7663426f",
   "metadata": {},
   "source": [
    "**示例一：**\n",
    "\n",
    "问题：假设正在排队等待进入一个火爆的夜总会，可以通过估计人们进入的速率来了解自己还要等待多长时间。\n",
    "\n",
    "推导：这个地方可以容纳约60人，每个人在里面逗留的时间大约是3个小时，进入夜总会的速率大概是每小时20人。现在我们的前面还有20人，也就意味着我们需要等待大约一小时。"
   ]
  },
  {
   "cell_type": "markdown",
   "id": "06e81fb5",
   "metadata": {},
   "source": [
    "**示例二：**\n",
    "\n",
    "问题：在地下室里有150箱酒，每年喝掉25箱并买入25箱，那么每箱酒保存的时间有多长？\n",
    "\n",
    "推导：用150箱除以25箱/年，得到答案是6年。"
   ]
  },
  {
   "cell_type": "markdown",
   "id": "0847e044",
   "metadata": {},
   "source": [
    "**应用：**\n",
    "\n",
    "可以用Little定律和流平衡的原理来证明多用户系统中的响应时间公式。\n",
    "\n",
    "问题：假定平均思考时间为$z$的$n$个用户同时登录到响应时间为$r$的任意系统中。每个用户周期都由思考和等待系统响应两个阶段组成，整个元系统（包括用户和计算机系统）中的作业总数固定为$n$。如果切断系统输出到用户的路径，就会发现元系统的平均负荷为$n$、平均响应时间为$z+r$而吞吐量为$x$（用每个时间单位处理的作业数来度量）。\n",
    "\n",
    "推导：由Little定律可得$n = x \\times (z + r)$，对$r$求解得到$r = n/x - z$。"
   ]
  }
 ],
 "metadata": {
  "kernelspec": {
   "display_name": "Python 3 (ipykernel)",
   "language": "python",
   "name": "python3"
  },
  "language_info": {
   "codemirror_mode": {
    "name": "ipython",
    "version": 3
   },
   "file_extension": ".py",
   "mimetype": "text/x-python",
   "name": "python",
   "nbconvert_exporter": "python",
   "pygments_lexer": "ipython3",
   "version": "3.10.5"
  }
 },
 "nbformat": 4,
 "nbformat_minor": 5
}
