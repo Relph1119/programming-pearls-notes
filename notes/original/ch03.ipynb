{
 "cells": [
  {
   "cell_type": "markdown",
   "id": "17b231dc",
   "metadata": {
    "collapsed": true
   },
   "source": [
    "# 第3章 数据决定程序结构"
   ]
  },
  {
   "cell_type": "markdown",
   "id": "89618c49",
   "metadata": {},
   "source": [
    "## 3.1 一个调查程序"
   ]
  },
  {
   "cell_type": "markdown",
   "id": "ae328206",
   "metadata": {},
   "source": [
    "背景：统计某个学院的学生所填的近2万份调查表，需要统计总人数、身份状态和性别。有25列分别代表8个大类，以及3页相似的输出（两页分别代表两个独立学院，另一页为这两者的总和）。"
   ]
  },
  {
   "cell_type": "markdown",
   "id": "08d44352",
   "metadata": {},
   "source": [
    "原始方案：程序使用350个不同的变量（25列*7行*2页），再采用一系列的嵌套逻辑来判定，读入每条记录时，应该增加哪个变量。"
   ]
  },
  {
   "cell_type": "markdown",
   "id": "3500d022",
   "metadata": {},
   "source": [
    "改进方案：使用6行代码取代原有40行的代码，对变量赋值进行重复利用，降低重复代码。"
   ]
  },
  {
   "cell_type": "markdown",
   "id": "6ca33a40",
   "metadata": {},
   "source": [
    "## 3.2 格式信函编程"
   ]
  },
  {
   "cell_type": "markdown",
   "id": "e35a3bba",
   "metadata": {},
   "source": [
    "背景：在常去的网店键入你的名字和密码并成功登录以后，弹出的下一页网页类似这样：\n",
    "\n",
    "> Welcome back, Jane!  \n",
    "> We hope that you and all the members  \n",
    "> of the Public family are constantly  \n",
    "> reminding your neighbors there  \n",
    "> on Maple Street to shop with us.  \n",
    "> As usual, we will ship your order to  \n",
    "> &emsp;&emsp;Ms. Jane Q. public  \n",
    "> &emsp;&emsp;600 Maple Street    \n",
    "> &emsp;&emsp;Your Town, Iowa 12345"
   ]
  },
  {
   "cell_type": "markdown",
   "id": "f7d2823e",
   "metadata": {},
   "source": [
    "计算机在数据库中查找你的用户名，并返回如下所示的字段：\n",
    "\n",
    "> Public|Jane|Q|Ms.|600|Maple Street|Your Town|Iowa|12345"
   ]
  },
  {
   "cell_type": "markdown",
   "id": "558efc88",
   "metadata": {},
   "source": [
    "原始方案：采用`print`的连行式，打印输出网页内容。"
   ]
  },
  {
   "cell_type": "markdown",
   "id": "43891413",
   "metadata": {},
   "source": [
    "改进方案：编写一个格式信函发生器，使用占位符进行字段填充。"
   ]
  },
  {
   "cell_type": "code",
   "execution_count": 4,
   "id": "093000bf",
   "metadata": {},
   "outputs": [],
   "source": [
    "scheme = \"\"\"\n",
    "Welcome back, {1}!\n",
    "We hope that you and all the members\n",
    "of the {0} family are constantly\n",
    "reminding your neighbors there\n",
    "on {5} to shop with us.\n",
    "As usual, we will ship your order to\n",
    "  {3} {1} {2}. {0}\n",
    "  {4} {5}\n",
    "  {6}, {7} {8}\n",
    "\"\"\""
   ]
  },
  {
   "cell_type": "code",
   "execution_count": 6,
   "id": "1dffa512",
   "metadata": {},
   "outputs": [],
   "source": [
    "info = \"Public|Jane|Q|Ms.|600|Maple Street|Your Town|Iowa|12345\""
   ]
  },
  {
   "cell_type": "code",
   "execution_count": 9,
   "id": "0772fd08",
   "metadata": {},
   "outputs": [
    {
     "name": "stdout",
     "output_type": "stream",
     "text": [
      "\n",
      "Welcome back, Jane!\n",
      "We hope that you and all the members\n",
      "of the Public family are constantly\n",
      "reminding your neighbors there\n",
      "on Maple Street to shop with us.\n",
      "As usual, we will ship your order to\n",
      "  Ms. Jane Q. Public\n",
      "  600 Maple Street\n",
      "  Your Town, Iowa 12345\n",
      "\n"
     ]
    }
   ],
   "source": [
    "fields = info.split(\"|\")\n",
    "print(scheme.format(*fields))"
   ]
  },
  {
   "cell_type": "markdown",
   "id": "8cc8075b",
   "metadata": {},
   "source": [
    "## 3.3 一组示例"
   ]
  },
  {
   "cell_type": "markdown",
   "id": "a7613718",
   "metadata": {},
   "source": [
    "### 3.3.1 菜单"
   ]
  },
  {
   "cell_type": "markdown",
   "id": "91699a6c",
   "metadata": {},
   "source": [
    "需求：Visual Basic程序的用户可以通过点击菜单项来实现在几个项之间的选择。"
   ]
  },
  {
   "cell_type": "markdown",
   "id": "14d967d9",
   "metadata": {},
   "source": [
    "原始方案："
   ]
  },
  {
   "cell_type": "code",
   "execution_count": 15,
   "id": "93f6b801",
   "metadata": {},
   "outputs": [],
   "source": [
    "class Menuitem:\n",
    "    def __init__(self):\n",
    "        self.checked = 0"
   ]
  },
  {
   "cell_type": "code",
   "execution_count": 16,
   "id": "063e7341",
   "metadata": {},
   "outputs": [],
   "source": [
    "numchoiches = 8\n",
    "menuitems = [Menuitem() for _ in range(numchoiches)]"
   ]
  },
  {
   "cell_type": "code",
   "execution_count": 17,
   "id": "69beb9a2",
   "metadata": {},
   "outputs": [],
   "source": [
    "def menuitem0_click():\n",
    "    menuitems[0].checked = 1\n",
    "    menuitems[1].checked = 0\n",
    "    menuitems[2].checked = 0\n",
    "    menuitems[3].checked = 0\n",
    "    menuitems[4].checked = 0\n",
    "    menuitems[5].checked = 0\n",
    "    menuitems[6].checked = 0\n",
    "    menuitems[7].checked = 0"
   ]
  },
  {
   "cell_type": "code",
   "execution_count": 18,
   "id": "b3a89152",
   "metadata": {},
   "outputs": [
    {
     "data": {
      "text/plain": [
       "1"
      ]
     },
     "execution_count": 18,
     "metadata": {},
     "output_type": "execute_result"
    }
   ],
   "source": [
    "menuitem0_click()\n",
    "menuitems[0].checked"
   ]
  },
  {
   "cell_type": "markdown",
   "id": "0b9ab093",
   "metadata": {},
   "source": [
    "改进方案："
   ]
  },
  {
   "cell_type": "code",
   "execution_count": 21,
   "id": "d4976bd5",
   "metadata": {},
   "outputs": [],
   "source": [
    "menuitems = [Menuitem() for _ in range(numchoiches)]"
   ]
  },
  {
   "cell_type": "code",
   "execution_count": 22,
   "id": "20e85447",
   "metadata": {},
   "outputs": [],
   "source": [
    "def menuitem_click(choice):\n",
    "    for i in range(numchoiches):\n",
    "        menuitems[i].checked = 0\n",
    "    menuitems[choice].checked = 1"
   ]
  },
  {
   "cell_type": "code",
   "execution_count": 23,
   "id": "042077e1",
   "metadata": {},
   "outputs": [
    {
     "data": {
      "text/plain": [
       "1"
      ]
     },
     "execution_count": 23,
     "metadata": {},
     "output_type": "execute_result"
    }
   ],
   "source": [
    "menuitem_click(0)\n",
    "menuitems[0].checked"
   ]
  },
  {
   "cell_type": "markdown",
   "id": "44e0ef99",
   "metadata": {},
   "source": [
    "### 3.3.2 出错信息"
   ]
  },
  {
   "cell_type": "markdown",
   "id": "a2f447f6",
   "metadata": {},
   "source": [
    "背景：混乱系统的数百个出错信息散步在所有代码中，同时，这些出错信息又与其他输出语句混杂在一起。\n",
    "\n",
    "解决方案：清晰系统通过一个专用函数来访问这些出错信息。"
   ]
  },
  {
   "cell_type": "markdown",
   "id": "e54081bd",
   "metadata": {},
   "source": [
    "### 3.3.4 日期函数"
   ]
  },
  {
   "cell_type": "markdown",
   "id": "633855f3",
   "metadata": {},
   "source": [
    "背景：给定年份和该年中的某一天，返回该天所处的月份和月中的例子\n",
    "\n",
    "解决示例：Kernighan和Plauger用一个5行程序解决了该问题，该程序用到了一个有26个整数的数组。"
   ]
  },
  {
   "cell_type": "markdown",
   "id": "249676f9",
   "metadata": {},
   "source": [
    "### 3.3.5 单词分析"
   ]
  },
  {
   "cell_type": "markdown",
   "id": "39cbdf35",
   "metadata": {},
   "source": [
    "背景：拼写检查器使用“后缀去除”来精简字典。\n",
    "\n",
    "解决示例：Doug McIlroy在编写他的第一个实时文本语音合成器的时候，使用1000行代码和一个400行的表实现。"
   ]
  },
  {
   "cell_type": "markdown",
   "id": "421ed9d9",
   "metadata": {},
   "source": [
    "## 3.5 用于特殊数据的强大工具"
   ]
  },
  {
   "cell_type": "markdown",
   "id": "420f2d8d",
   "metadata": {},
   "source": [
    "- 超文本：使用网页的超文本能展示网上的资源，包括以前存储在CD-ROM上面的资料（百科全书、字典、年鉴、电话号码簿、古典文学、教科书、系统参考手册等）。\n",
    "- 名字-值对（`map`）：Visual Basic窗体左上角的文本框采用这种方式描述界面的控件。\n",
    "- 电子表格：主要面向财务人员。\n",
    "- 数据库：一位程序员在纸质日志上记录了他最初的十几次跳伞的详细信息以后，决定将自己跳伞数据的记录自动化。\n",
    "- 特定领域的编程语言：类似于Letax的编程式数学公式。"
   ]
  },
  {
   "cell_type": "markdown",
   "id": "250338c3",
   "metadata": {},
   "source": [
    "## 3.6 原理"
   ]
  },
  {
   "cell_type": "markdown",
   "id": "5d9810c0",
   "metadata": {},
   "source": [
    "能用小程序实现的，就不要编写大程序。"
   ]
  },
  {
   "cell_type": "markdown",
   "id": "3bf335ee",
   "metadata": {},
   "source": [
    "> 程序员在节省空间方面无计可施时，将自己从代码中解脱出来，退回起点并集中心力研究数据，常常能有奇效。（数据的）表示形式是程序设计的根本。"
   ]
  },
  {
   "cell_type": "markdown",
   "id": "9836dbad",
   "metadata": {},
   "source": [
    "退回起点进行思考的原则：\n",
    "- 使用数组重新编写重复代码。\n",
    "- 封装复杂结构：当需要非常复杂的数据结构时，使用抽象术语进行定义，并将操作表示为类。\n",
    "- 尽可能使用高级工具。\n",
    "- 从数据得出程序的结构。"
   ]
  }
 ],
 "metadata": {
  "kernelspec": {
   "display_name": "Python 3 (ipykernel)",
   "language": "python",
   "name": "python3"
  },
  "language_info": {
   "codemirror_mode": {
    "name": "ipython",
    "version": 3
   },
   "file_extension": ".py",
   "mimetype": "text/x-python",
   "name": "python",
   "nbconvert_exporter": "python",
   "pygments_lexer": "ipython3",
   "version": "3.10.5"
  }
 },
 "nbformat": 4,
 "nbformat_minor": 5
}
