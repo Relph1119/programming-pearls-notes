{
 "cells": [
  {
   "cell_type": "markdown",
   "id": "fe1c828f",
   "metadata": {
    "collapsed": true
   },
   "source": [
    "# 第11章 排序"
   ]
  },
  {
   "cell_type": "code",
   "execution_count": 1,
   "id": "46c00666",
   "metadata": {},
   "outputs": [],
   "source": [
    "x = [55, 41, 59, 26, 53, 58, 97, 93]"
   ]
  },
  {
   "cell_type": "markdown",
   "id": "f100f996",
   "metadata": {},
   "source": [
    "## 11.1 插入排序"
   ]
  },
  {
   "cell_type": "markdown",
   "id": "9490e888",
   "metadata": {},
   "source": [
    "时间复杂度：$O(n^2)$"
   ]
  },
  {
   "cell_type": "markdown",
   "id": "19c365b6",
   "metadata": {},
   "source": [
    "算法步骤：\n",
    "1. 将第一个元素视为有序子数组。\n",
    "2. 从第二个元素开始逆序遍历。\n",
    "3. 插入之后，剩余元素向右移动。"
   ]
  },
  {
   "cell_type": "code",
   "execution_count": 2,
   "id": "a92423c8",
   "metadata": {},
   "outputs": [],
   "source": [
    "def isort3(x):\n",
    "    n = len(x)\n",
    "    for i in range(1, n):\n",
    "        t = x[i]\n",
    "        j = i\n",
    "        while j > 0 and x[j - 1] > t: \n",
    "            x[j] = x[j - 1]\n",
    "            j -= 1\n",
    "        x[j] = t\n",
    "    return x    "
   ]
  },
  {
   "cell_type": "code",
   "execution_count": 3,
   "id": "36f13e87",
   "metadata": {},
   "outputs": [
    {
     "data": {
      "text/plain": [
       "[26, 41, 53, 55, 58, 59, 93, 97]"
      ]
     },
     "execution_count": 3,
     "metadata": {},
     "output_type": "execute_result"
    }
   ],
   "source": [
    "isort3(x.copy())"
   ]
  },
  {
   "cell_type": "markdown",
   "id": "4cbe29fb",
   "metadata": {},
   "source": [
    "## 11.2 一种简单的快速排序"
   ]
  },
  {
   "cell_type": "markdown",
   "id": "cb15601f",
   "metadata": {},
   "source": [
    "时间复杂度：$O(n \\log n)$"
   ]
  },
  {
   "cell_type": "markdown",
   "id": "9f4ccc1b",
   "metadata": {},
   "source": [
    "算法步骤：\n",
    "1. 选择第1个元素作为起点元素，小于该数的移到左边，大于该数的移到右边。\n",
    "2. 对子数组递归。"
   ]
  },
  {
   "cell_type": "markdown",
   "id": "98271326",
   "metadata": {},
   "source": [
    "快速排序平均需要$O(n \\log n)$的时间和$O(\\log n)$的栈空间，接近最优算法。"
   ]
  },
  {
   "cell_type": "code",
   "execution_count": 4,
   "id": "8461847f",
   "metadata": {},
   "outputs": [],
   "source": [
    "def qsort1(x, l, u):\n",
    "    if l >= u:\n",
    "        return x\n",
    "    m = l\n",
    "    for i in range(l + 1, u + 1):\n",
    "        if x[i] < x[l]:\n",
    "            m += 1\n",
    "            x[m], x[i] = x[i], x[m]\n",
    "    x[l], x[m] = x[m], x[l]\n",
    "    \n",
    "    x = qsort1(x, l, m - 1)\n",
    "    x = qsort1(x, m + 1, u)\n",
    "    \n",
    "    return x"
   ]
  },
  {
   "cell_type": "code",
   "execution_count": 5,
   "id": "f087e70c",
   "metadata": {},
   "outputs": [
    {
     "data": {
      "text/plain": [
       "[26, 41, 53, 55, 58, 59, 93, 97]"
      ]
     },
     "execution_count": 5,
     "metadata": {},
     "output_type": "execute_result"
    }
   ],
   "source": [
    "qsort1(x.copy(), 0, len(x) - 1)"
   ]
  },
  {
   "cell_type": "markdown",
   "id": "35315c60",
   "metadata": {},
   "source": [
    "## 11.3 几种更好的快速排序"
   ]
  },
  {
   "cell_type": "markdown",
   "id": "3d2ac29c",
   "metadata": {},
   "source": [
    "**快速排序第3版：**\n",
    "\n",
    "改进方案：解决当元素相同时的问题，使用双向划分，主循环中有两个内循环，第一个内循环将$i$向右移过小元素，遇到大元素时停止；第二个内循环将$j$向左移过大元素，遇到小元素时停止。然后主循环测试这两个下标是否交叉并交换它们的值。"
   ]
  },
  {
   "cell_type": "code",
   "execution_count": 6,
   "id": "90664107",
   "metadata": {},
   "outputs": [],
   "source": [
    "def qsort3(x, l, u):\n",
    "    if l >= u:\n",
    "        return x\n",
    "    t = x[l]; i = l; j = u + 1\n",
    "    while True:\n",
    "        i += 1\n",
    "        while i <= u and x[i] < t:\n",
    "            i += 1\n",
    "        j -= 1\n",
    "        while x[j] > t:\n",
    "            j -= 1\n",
    "        if i > j:\n",
    "            break\n",
    "        x[i], x[j] = x[j], x[i]\n",
    "    \n",
    "    x[l], x[j] = x[j], x[l]\n",
    "    \n",
    "    x = qsort3(x, l, j - 1)\n",
    "    x = qsort3(x, j + 1, u)\n",
    "    \n",
    "    return x"
   ]
  },
  {
   "cell_type": "code",
   "execution_count": 7,
   "id": "d473d4ae",
   "metadata": {},
   "outputs": [
    {
     "data": {
      "text/plain": [
       "[26, 41, 53, 55, 58, 59, 93, 97]"
      ]
     },
     "execution_count": 7,
     "metadata": {},
     "output_type": "execute_result"
    }
   ],
   "source": [
    "qsort3(x.copy(), 0, len(x) - 1)"
   ]
  },
  {
   "cell_type": "markdown",
   "id": "4f36fade",
   "metadata": {},
   "source": [
    "**快速排序第4版：**\n",
    "\n",
    "改进方案：在排序很小的子数组时，使用插入排序之类的简单方法来排序这些很小的子数组。"
   ]
  },
  {
   "cell_type": "code",
   "execution_count": 8,
   "id": "4b7b97d7",
   "metadata": {},
   "outputs": [],
   "source": [
    "import random\n",
    "\n",
    "random.seed(2023)\n",
    "\n",
    "def qsort4(x, l, u):\n",
    "    if u - l < 0:\n",
    "        return x\n",
    "    \n",
    "    rand_block = random.randint(l, u)\n",
    "    x[l], x[rand_block] = x[rand_block], x[l]\n",
    "    t = x[l]; i = l; j = u + 1\n",
    "    while True:\n",
    "        i += 1\n",
    "        while i <= u and x[i] < t:\n",
    "            i += 1\n",
    "        j -= 1\n",
    "        while x[j] > t:\n",
    "            j -= 1\n",
    "        if i > j:\n",
    "            break\n",
    "        x[i], x[j] = x[j], x[i]\n",
    "    \n",
    "    x[l], x[j] = x[j], x[l]\n",
    "    \n",
    "    x = qsort4(x, l, j - 1)\n",
    "    x = qsort4(x, j + 1, u)\n",
    "    \n",
    "    return x"
   ]
  },
  {
   "cell_type": "code",
   "execution_count": 9,
   "id": "ccf26949",
   "metadata": {},
   "outputs": [
    {
     "data": {
      "text/plain": [
       "[26, 41, 53, 55, 58, 59, 93, 97]"
      ]
     },
     "execution_count": 9,
     "metadata": {},
     "output_type": "execute_result"
    }
   ],
   "source": [
    "qsort4(x.copy(), 0, len(x) - 1)"
   ]
  }
 ],
 "metadata": {
  "kernelspec": {
   "display_name": "Python 3 (ipykernel)",
   "language": "python",
   "name": "python3"
  },
  "language_info": {
   "codemirror_mode": {
    "name": "ipython",
    "version": 3
   },
   "file_extension": ".py",
   "mimetype": "text/x-python",
   "name": "python",
   "nbconvert_exporter": "python",
   "pygments_lexer": "ipython3",
   "version": "3.10.5"
  }
 },
 "nbformat": 4,
 "nbformat_minor": 5
}
