{
 "cells": [
  {
   "cell_type": "markdown",
   "id": "2da3e42a",
   "metadata": {
    "collapsed": true
   },
   "source": [
    "# 第6章 程序性能分析"
   ]
  },
  {
   "cell_type": "markdown",
   "id": "e7558662",
   "metadata": {},
   "source": [
    "## 6.1 实例研究"
   ]
  },
  {
   "cell_type": "markdown",
   "id": "35cbbc0e",
   "metadata": {},
   "source": [
    "背景：解决计算重力场中多个物体相互作用的经典“$n$体问题”，给定物体的质量、初始位置和速度，设计程序可以对三维空间中$n$个物体的运动进行仿真。Andrew Appel的文章讨论了$n=10000$时的两个天体物理学问题。"
   ]
  },
  {
   "cell_type": "markdown",
   "id": "6fab369c",
   "metadata": {},
   "source": [
    "结果：逐步将程序优化，加速了400倍，从运行时间一年优化到了一天。"
   ]
  },
  {
   "cell_type": "markdown",
   "id": "072f912b",
   "metadata": {},
   "source": [
    "优化方案：\n",
    "- 算法和数据结构：将物体表示为二叉树的叶结点，每个时间步从$O(n^2)$减少为$O(n \\log n)$。\n",
    "- 算法调优：使用小时间步处理两个粒子相互接近的罕见情况，树的数据结构提供一个特殊函数识别并处理粒子对，使程序的运行时间减半。\n",
    "- 数据结构重组：在每个时间步对数据结构进行重新配置，减少局部计算的次数，使总运行时间减半。\n",
    "- 代码调优：用32位单精度浮点数代替64位双精度浮点数，使运行时间减半。\n",
    "- 硬件：增加硬件资源，将程序运行到一个稍贵一些的、装配有加速器的机器上，运行时间再次减半。"
   ]
  },
  {
   "cell_type": "markdown",
   "id": "82636674",
   "metadata": {},
   "source": [
    "## 6.2 设计层面"
   ]
  },
  {
   "cell_type": "markdown",
   "id": "a1e3fa70",
   "metadata": {},
   "source": [
    "- 问题定义：追求快速系统，可能在定义该系统需要解决的问题时，就已经注定失败了。有时候，良好的问题定义可以避免用户对问题需求的过高估计。\n",
    "- 系统结构：将大型系统分解成模块，是决定其性能的最重要的单个因素。性能分析在系统设计阶段至关重要。\n",
    "- 算法和数据结构：获得快速模块的关键通常是表示数据的结构和操作这些数据的算法。\n",
    "- 系统软件：有时候改变系统所基于的软件比改变系统本身更容易。\n",
    "- 硬件：更快的硬件可以提高系统的性能。"
   ]
  },
  {
   "cell_type": "markdown",
   "id": "6d490156",
   "metadata": {},
   "source": [
    "## 6.3 原理"
   ]
  },
  {
   "cell_type": "markdown",
   "id": "a0469ef3",
   "metadata": {},
   "source": [
    "预防远胜于治疗。"
   ]
  },
  {
   "cell_type": "markdown",
   "id": "9a79d1fa",
   "metadata": {},
   "source": [
    "- 计算机系统中最廉价、最快速且最可靠的元件是根本不存在的。\n",
    "- 如果仅需要较小的加速，就对效果最佳的层面做改进。\n",
    "- 如果需要较大的加速，就对多个层面做改进。"
   ]
  }
 ],
 "metadata": {
  "kernelspec": {
   "display_name": "Python 3 (ipykernel)",
   "language": "python",
   "name": "python3"
  },
  "language_info": {
   "codemirror_mode": {
    "name": "ipython",
    "version": 3
   },
   "file_extension": ".py",
   "mimetype": "text/x-python",
   "name": "python",
   "nbconvert_exporter": "python",
   "pygments_lexer": "ipython3",
   "version": "3.10.5"
  }
 },
 "nbformat": 4,
 "nbformat_minor": 5
}
