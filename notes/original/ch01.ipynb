{
 "cells": [
  {
   "cell_type": "markdown",
   "id": "4fd2bc570417c4c7",
   "metadata": {},
   "source": [
    "# 第一章 开篇"
   ]
  },
  {
   "cell_type": "markdown",
   "id": "8a7f2ed3",
   "metadata": {},
   "source": [
    "## 1.1 任务背景"
   ]
  },
  {
   "cell_type": "markdown",
   "id": "d00c8e18",
   "metadata": {},
   "source": [
    "- 需要在一个大系统中排序，排序的内容是文件。\n",
    "- 文件最多包含1千万条记录，每条记录都是7位的整数。\n",
    "- 只有1MB的内存可用。"
   ]
  },
  {
   "cell_type": "markdown",
   "id": "a56a77d92cc8455d",
   "metadata": {},
   "source": [
    "## 1.2 准确的问题描述 "
   ]
  },
  {
   "cell_type": "markdown",
   "id": "c4d41f02",
   "metadata": {},
   "source": [
    "**输入：**一个最多包含$n$个正整数的文件，每个数都小于$n$，其中$n=10^7$。如果在输入文件中有任何整数重复出现就是致命错误。没有其他数据与该正整数相关联。"
   ]
  },
  {
   "cell_type": "markdown",
   "id": "84c3358f",
   "metadata": {},
   "source": [
    "**输出：**按升序排列的输入整数的列表。"
   ]
  },
  {
   "cell_type": "markdown",
   "id": "a38376550a1bb7cf",
   "metadata": {},
   "source": [
    "**约束：**最多有（大约）1MB的内存空间可用，有充足的磁盘存储空间可用。运行时间最多几分钟，运行时间为10秒就不需要进一步优化了。"
   ]
  },
  {
   "cell_type": "markdown",
   "id": "d41b9a3c",
   "metadata": {},
   "source": [
    "## 1.3 程序设计"
   ]
  },
  {
   "cell_type": "markdown",
   "id": "7159a9e1",
   "metadata": {},
   "source": [
    "设计方案一：以一般的基于磁盘的归并排序程序为起点，可以将原有的200行程序减少为几十行，但是完成程序并使之运行可能仍然需要几天的时间。"
   ]
  },
  {
   "cell_type": "markdown",
   "id": "109c512e",
   "metadata": {},
   "source": [
    "设计方案二：利用排序问题的特殊性\n",
    "- 每个号码使用7个字节存储，在可用的1MB存储空间中，大约可以存143000个号码。\n",
    "- 如果每个号码使用32位整数表示，在1MB存储空间中，可以存储250000个号码。\n",
    "- 处理所有号码，需要遍历输入文件40趟。"
   ]
  },
  {
   "cell_type": "markdown",
   "id": "ca6a32ce",
   "metadata": {},
   "source": [
    "## 1.4 位图方案的实现概要"
   ]
  },
  {
   "cell_type": "markdown",
   "id": "3ab42d28",
   "metadata": {},
   "source": [
    "设计方案三：使用位图或位向量表示集合。\n",
    "- 由于每个7位十进制整数表示一个小于1000万的整数，可以使用一个具有1000万个位的字符串来表示这个文件。\n",
    "- 当且仅当整数$i$在文件中存在时，第$i$位为1。"
   ]
  },
  {
   "cell_type": "markdown",
   "id": "c31ebbb3",
   "metadata": {},
   "source": [
    "具体步骤：\n",
    "1. 将所有的位都置0，从而将集合初始化为空。\n",
    "2. 通过读入文件中的每个整数建立集合，将每个对应的位都置为1。\n",
    "3. 检验每一位，如果该位为1，输入对应的整数，产生有序的输出文件。"
   ]
  },
  {
   "cell_type": "markdown",
   "id": "cd18e25f",
   "metadata": {},
   "source": [
    "## 1.5 原理"
   ]
  },
  {
   "cell_type": "markdown",
   "id": "7b1e9b1f",
   "metadata": {},
   "source": [
    "上述程序的一般性原理：\n",
    "- 正确的问题：明确问题。\n",
    "- 位图数据结构：该数据结构描述了一个有限定义域内的稠密集合，其中的每一个元素最多出现一次，并且没有其他任何数据与该元素相关联。\n",
    "- 多趟算法：多次读入其输入数据，每次完成一步。\n",
    "- 时间-空间折中与双赢：通过使用更多的时间，可以减少程序所需的空间。\n",
    "- 简单的设计：设计者确定其设计已经达到了完美的标准，不是不能再增加任何东西，而是不能再减少任何东西。\n",
    "- 程序设计的阶段"
   ]
  }
 ],
 "metadata": {
  "kernelspec": {
   "display_name": "Python 3 (ipykernel)",
   "language": "python",
   "name": "python3"
  },
  "language_info": {
   "codemirror_mode": {
    "name": "ipython",
    "version": 3
   },
   "file_extension": ".py",
   "mimetype": "text/x-python",
   "name": "python",
   "nbconvert_exporter": "python",
   "pygments_lexer": "ipython3",
   "version": "3.10.5"
  }
 },
 "nbformat": 4,
 "nbformat_minor": 5
}
